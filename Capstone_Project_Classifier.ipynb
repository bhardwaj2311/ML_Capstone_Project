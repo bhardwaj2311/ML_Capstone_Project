{
 "cells": [
  {
   "cell_type": "code",
   "execution_count": 371,
   "id": "official-uncertainty",
   "metadata": {},
   "outputs": [],
   "source": [
    "import itertools\n",
    "import numpy as np\n",
    "import matplotlib.pyplot as plt\n",
    "from matplotlib.ticker import NullFormatter\n",
    "import pandas as pd\n",
    "import numpy as np\n",
    "import matplotlib.ticker as ticker\n",
    "from sklearn import preprocessing\n",
    "%matplotlib inline"
   ]
  },
  {
   "cell_type": "code",
   "execution_count": 372,
   "id": "employed-shooting",
   "metadata": {},
   "outputs": [
    {
     "data": {
      "text/html": [
       "<div>\n",
       "<style scoped>\n",
       "    .dataframe tbody tr th:only-of-type {\n",
       "        vertical-align: middle;\n",
       "    }\n",
       "\n",
       "    .dataframe tbody tr th {\n",
       "        vertical-align: top;\n",
       "    }\n",
       "\n",
       "    .dataframe thead th {\n",
       "        text-align: right;\n",
       "    }\n",
       "</style>\n",
       "<table border=\"1\" class=\"dataframe\">\n",
       "  <thead>\n",
       "    <tr style=\"text-align: right;\">\n",
       "      <th></th>\n",
       "      <th>Unnamed: 0</th>\n",
       "      <th>Unnamed: 0.1</th>\n",
       "      <th>loan_status</th>\n",
       "      <th>Principal</th>\n",
       "      <th>terms</th>\n",
       "      <th>effective_date</th>\n",
       "      <th>due_date</th>\n",
       "      <th>age</th>\n",
       "      <th>education</th>\n",
       "      <th>Gender</th>\n",
       "    </tr>\n",
       "  </thead>\n",
       "  <tbody>\n",
       "    <tr>\n",
       "      <th>0</th>\n",
       "      <td>0</td>\n",
       "      <td>0</td>\n",
       "      <td>PAIDOFF</td>\n",
       "      <td>1000</td>\n",
       "      <td>30</td>\n",
       "      <td>9/8/2016</td>\n",
       "      <td>10/7/2016</td>\n",
       "      <td>45</td>\n",
       "      <td>High School or Below</td>\n",
       "      <td>male</td>\n",
       "    </tr>\n",
       "    <tr>\n",
       "      <th>1</th>\n",
       "      <td>2</td>\n",
       "      <td>2</td>\n",
       "      <td>PAIDOFF</td>\n",
       "      <td>1000</td>\n",
       "      <td>30</td>\n",
       "      <td>9/8/2016</td>\n",
       "      <td>10/7/2016</td>\n",
       "      <td>33</td>\n",
       "      <td>Bechalor</td>\n",
       "      <td>female</td>\n",
       "    </tr>\n",
       "    <tr>\n",
       "      <th>2</th>\n",
       "      <td>3</td>\n",
       "      <td>3</td>\n",
       "      <td>PAIDOFF</td>\n",
       "      <td>1000</td>\n",
       "      <td>15</td>\n",
       "      <td>9/8/2016</td>\n",
       "      <td>9/22/2016</td>\n",
       "      <td>27</td>\n",
       "      <td>college</td>\n",
       "      <td>male</td>\n",
       "    </tr>\n",
       "    <tr>\n",
       "      <th>3</th>\n",
       "      <td>4</td>\n",
       "      <td>4</td>\n",
       "      <td>PAIDOFF</td>\n",
       "      <td>1000</td>\n",
       "      <td>30</td>\n",
       "      <td>9/9/2016</td>\n",
       "      <td>10/8/2016</td>\n",
       "      <td>28</td>\n",
       "      <td>college</td>\n",
       "      <td>female</td>\n",
       "    </tr>\n",
       "    <tr>\n",
       "      <th>4</th>\n",
       "      <td>6</td>\n",
       "      <td>6</td>\n",
       "      <td>PAIDOFF</td>\n",
       "      <td>1000</td>\n",
       "      <td>30</td>\n",
       "      <td>9/9/2016</td>\n",
       "      <td>10/8/2016</td>\n",
       "      <td>29</td>\n",
       "      <td>college</td>\n",
       "      <td>male</td>\n",
       "    </tr>\n",
       "  </tbody>\n",
       "</table>\n",
       "</div>"
      ],
      "text/plain": [
       "   Unnamed: 0  Unnamed: 0.1 loan_status  Principal  terms effective_date  \\\n",
       "0           0             0     PAIDOFF       1000     30       9/8/2016   \n",
       "1           2             2     PAIDOFF       1000     30       9/8/2016   \n",
       "2           3             3     PAIDOFF       1000     15       9/8/2016   \n",
       "3           4             4     PAIDOFF       1000     30       9/9/2016   \n",
       "4           6             6     PAIDOFF       1000     30       9/9/2016   \n",
       "\n",
       "    due_date  age             education  Gender  \n",
       "0  10/7/2016   45  High School or Below    male  \n",
       "1  10/7/2016   33              Bechalor  female  \n",
       "2  9/22/2016   27               college    male  \n",
       "3  10/8/2016   28               college  female  \n",
       "4  10/8/2016   29               college    male  "
      ]
     },
     "execution_count": 372,
     "metadata": {},
     "output_type": "execute_result"
    }
   ],
   "source": [
    "df = pd.read_csv('loan_train.csv')\n",
    "df.head()"
   ]
  },
  {
   "cell_type": "code",
   "execution_count": 373,
   "id": "applied-operator",
   "metadata": {},
   "outputs": [
    {
     "data": {
      "text/plain": [
       "(346, 10)"
      ]
     },
     "execution_count": 373,
     "metadata": {},
     "output_type": "execute_result"
    }
   ],
   "source": [
    "df.shape"
   ]
  },
  {
   "cell_type": "code",
   "execution_count": 374,
   "id": "sitting-archives",
   "metadata": {},
   "outputs": [
    {
     "data": {
      "text/html": [
       "<div>\n",
       "<style scoped>\n",
       "    .dataframe tbody tr th:only-of-type {\n",
       "        vertical-align: middle;\n",
       "    }\n",
       "\n",
       "    .dataframe tbody tr th {\n",
       "        vertical-align: top;\n",
       "    }\n",
       "\n",
       "    .dataframe thead th {\n",
       "        text-align: right;\n",
       "    }\n",
       "</style>\n",
       "<table border=\"1\" class=\"dataframe\">\n",
       "  <thead>\n",
       "    <tr style=\"text-align: right;\">\n",
       "      <th></th>\n",
       "      <th>Unnamed: 0</th>\n",
       "      <th>Unnamed: 0.1</th>\n",
       "      <th>loan_status</th>\n",
       "      <th>Principal</th>\n",
       "      <th>terms</th>\n",
       "      <th>effective_date</th>\n",
       "      <th>due_date</th>\n",
       "      <th>age</th>\n",
       "      <th>education</th>\n",
       "      <th>Gender</th>\n",
       "    </tr>\n",
       "  </thead>\n",
       "  <tbody>\n",
       "    <tr>\n",
       "      <th>0</th>\n",
       "      <td>0</td>\n",
       "      <td>0</td>\n",
       "      <td>PAIDOFF</td>\n",
       "      <td>1000</td>\n",
       "      <td>30</td>\n",
       "      <td>2016-09-08</td>\n",
       "      <td>2016-10-07</td>\n",
       "      <td>45</td>\n",
       "      <td>High School or Below</td>\n",
       "      <td>male</td>\n",
       "    </tr>\n",
       "    <tr>\n",
       "      <th>1</th>\n",
       "      <td>2</td>\n",
       "      <td>2</td>\n",
       "      <td>PAIDOFF</td>\n",
       "      <td>1000</td>\n",
       "      <td>30</td>\n",
       "      <td>2016-09-08</td>\n",
       "      <td>2016-10-07</td>\n",
       "      <td>33</td>\n",
       "      <td>Bechalor</td>\n",
       "      <td>female</td>\n",
       "    </tr>\n",
       "    <tr>\n",
       "      <th>2</th>\n",
       "      <td>3</td>\n",
       "      <td>3</td>\n",
       "      <td>PAIDOFF</td>\n",
       "      <td>1000</td>\n",
       "      <td>15</td>\n",
       "      <td>2016-09-08</td>\n",
       "      <td>2016-09-22</td>\n",
       "      <td>27</td>\n",
       "      <td>college</td>\n",
       "      <td>male</td>\n",
       "    </tr>\n",
       "    <tr>\n",
       "      <th>3</th>\n",
       "      <td>4</td>\n",
       "      <td>4</td>\n",
       "      <td>PAIDOFF</td>\n",
       "      <td>1000</td>\n",
       "      <td>30</td>\n",
       "      <td>2016-09-09</td>\n",
       "      <td>2016-10-08</td>\n",
       "      <td>28</td>\n",
       "      <td>college</td>\n",
       "      <td>female</td>\n",
       "    </tr>\n",
       "    <tr>\n",
       "      <th>4</th>\n",
       "      <td>6</td>\n",
       "      <td>6</td>\n",
       "      <td>PAIDOFF</td>\n",
       "      <td>1000</td>\n",
       "      <td>30</td>\n",
       "      <td>2016-09-09</td>\n",
       "      <td>2016-10-08</td>\n",
       "      <td>29</td>\n",
       "      <td>college</td>\n",
       "      <td>male</td>\n",
       "    </tr>\n",
       "  </tbody>\n",
       "</table>\n",
       "</div>"
      ],
      "text/plain": [
       "   Unnamed: 0  Unnamed: 0.1 loan_status  Principal  terms effective_date  \\\n",
       "0           0             0     PAIDOFF       1000     30     2016-09-08   \n",
       "1           2             2     PAIDOFF       1000     30     2016-09-08   \n",
       "2           3             3     PAIDOFF       1000     15     2016-09-08   \n",
       "3           4             4     PAIDOFF       1000     30     2016-09-09   \n",
       "4           6             6     PAIDOFF       1000     30     2016-09-09   \n",
       "\n",
       "    due_date  age             education  Gender  \n",
       "0 2016-10-07   45  High School or Below    male  \n",
       "1 2016-10-07   33              Bechalor  female  \n",
       "2 2016-09-22   27               college    male  \n",
       "3 2016-10-08   28               college  female  \n",
       "4 2016-10-08   29               college    male  "
      ]
     },
     "execution_count": 374,
     "metadata": {},
     "output_type": "execute_result"
    }
   ],
   "source": [
    "df['due_date'] = pd.to_datetime(df['due_date'])\n",
    "df['effective_date'] = pd.to_datetime(df['effective_date'])\n",
    "df.head()"
   ]
  },
  {
   "cell_type": "code",
   "execution_count": 375,
   "id": "coated-novelty",
   "metadata": {},
   "outputs": [
    {
     "data": {
      "text/plain": [
       "PAIDOFF       260\n",
       "COLLECTION     86\n",
       "Name: loan_status, dtype: int64"
      ]
     },
     "execution_count": 375,
     "metadata": {},
     "output_type": "execute_result"
    }
   ],
   "source": [
    "df['loan_status'].value_counts()"
   ]
  },
  {
   "cell_type": "code",
   "execution_count": 376,
   "id": "entertaining-picnic",
   "metadata": {},
   "outputs": [
    {
     "data": {
      "image/png": "[encoded data removed]",
      "text/plain": [
       "<Figure size 432x216 with 2 Axes>"
      ]
     },
     "metadata": {
      "needs_background": "light"
     },
     "output_type": "display_data"
    }
   ],
   "source": [
    "import seaborn as sns\n",
    "\n",
    "bins = np.linspace(df.Principal.min(), df.Principal.max(), 10)\n",
    "g = sns.FacetGrid(df, col=\"Gender\", hue=\"loan_status\", palette=\"Set1\", col_wrap=2)\n",
    "g.map(plt.hist, 'Principal', bins=bins, ec=\"k\")\n",
    "\n",
    "g.axes[-1].legend()\n",
    "plt.show()"
   ]
  },
  {
   "cell_type": "code",
   "execution_count": 377,
   "id": "sharing-temperature",
   "metadata": {},
   "outputs": [
    {
     "data": {
      "image/png": "[encoded data removed]",
      "text/plain": [
       "<Figure size 432x216 with 2 Axes>"
      ]
     },
     "metadata": {
      "needs_background": "light"
     },
     "output_type": "display_data"
    }
   ],
   "source": [
    "bins = np.linspace(df.age.min(), df.age.max(), 10)\n",
    "g = sns.FacetGrid(df, col=\"Gender\", hue=\"loan_status\", palette=\"Set1\", col_wrap=2)\n",
    "g.map(plt.hist, 'age', bins=bins, ec=\"k\")\n",
    "\n",
    "g.axes[-1].legend()\n",
    "plt.show()"
   ]
  },
  {
   "cell_type": "code",
   "execution_count": 378,
   "id": "nominated-muslim",
   "metadata": {},
   "outputs": [
    {
     "data": {
      "image/png": "[encoded data removed]",
      "text/plain": [
       "<Figure size 432x216 with 2 Axes>"
      ]
     },
     "metadata": {
      "needs_background": "light"
     },
     "output_type": "display_data"
    }
   ],
   "source": [
    "df['dayofweek'] = df['effective_date'].dt.dayofweek\n",
    "bins = np.linspace(df.dayofweek.min(), df.dayofweek.max(), 10)\n",
    "g = sns.FacetGrid(df, col=\"Gender\", hue=\"loan_status\", palette=\"Set1\", col_wrap=2)\n",
    "g.map(plt.hist, 'dayofweek', bins=bins, ec=\"k\")\n",
    "g.axes[-1].legend()\n",
    "plt.show()"
   ]
  },
  {
   "cell_type": "code",
   "execution_count": 379,
   "id": "latin-candle",
   "metadata": {},
   "outputs": [
    {
     "data": {
      "text/html": [
       "<div>\n",
       "<style scoped>\n",
       "    .dataframe tbody tr th:only-of-type {\n",
       "        vertical-align: middle;\n",
       "    }\n",
       "\n",
       "    .dataframe tbody tr th {\n",
       "        vertical-align: top;\n",
       "    }\n",
       "\n",
       "    .dataframe thead th {\n",
       "        text-align: right;\n",
       "    }\n",
       "</style>\n",
       "<table border=\"1\" class=\"dataframe\">\n",
       "  <thead>\n",
       "    <tr style=\"text-align: right;\">\n",
       "      <th></th>\n",
       "      <th>Unnamed: 0</th>\n",
       "      <th>Unnamed: 0.1</th>\n",
       "      <th>loan_status</th>\n",
       "      <th>Principal</th>\n",
       "      <th>terms</th>\n",
       "      <th>effective_date</th>\n",
       "      <th>due_date</th>\n",
       "      <th>age</th>\n",
       "      <th>education</th>\n",
       "      <th>Gender</th>\n",
       "      <th>dayofweek</th>\n",
       "      <th>weekend</th>\n",
       "    </tr>\n",
       "  </thead>\n",
       "  <tbody>\n",
       "    <tr>\n",
       "      <th>0</th>\n",
       "      <td>0</td>\n",
       "      <td>0</td>\n",
       "      <td>PAIDOFF</td>\n",
       "      <td>1000</td>\n",
       "      <td>30</td>\n",
       "      <td>2016-09-08</td>\n",
       "      <td>2016-10-07</td>\n",
       "      <td>45</td>\n",
       "      <td>High School or Below</td>\n",
       "      <td>male</td>\n",
       "      <td>3</td>\n",
       "      <td>0</td>\n",
       "    </tr>\n",
       "    <tr>\n",
       "      <th>1</th>\n",
       "      <td>2</td>\n",
       "      <td>2</td>\n",
       "      <td>PAIDOFF</td>\n",
       "      <td>1000</td>\n",
       "      <td>30</td>\n",
       "      <td>2016-09-08</td>\n",
       "      <td>2016-10-07</td>\n",
       "      <td>33</td>\n",
       "      <td>Bechalor</td>\n",
       "      <td>female</td>\n",
       "      <td>3</td>\n",
       "      <td>0</td>\n",
       "    </tr>\n",
       "    <tr>\n",
       "      <th>2</th>\n",
       "      <td>3</td>\n",
       "      <td>3</td>\n",
       "      <td>PAIDOFF</td>\n",
       "      <td>1000</td>\n",
       "      <td>15</td>\n",
       "      <td>2016-09-08</td>\n",
       "      <td>2016-09-22</td>\n",
       "      <td>27</td>\n",
       "      <td>college</td>\n",
       "      <td>male</td>\n",
       "      <td>3</td>\n",
       "      <td>0</td>\n",
       "    </tr>\n",
       "    <tr>\n",
       "      <th>3</th>\n",
       "      <td>4</td>\n",
       "      <td>4</td>\n",
       "      <td>PAIDOFF</td>\n",
       "      <td>1000</td>\n",
       "      <td>30</td>\n",
       "      <td>2016-09-09</td>\n",
       "      <td>2016-10-08</td>\n",
       "      <td>28</td>\n",
       "      <td>college</td>\n",
       "      <td>female</td>\n",
       "      <td>4</td>\n",
       "      <td>1</td>\n",
       "    </tr>\n",
       "    <tr>\n",
       "      <th>4</th>\n",
       "      <td>6</td>\n",
       "      <td>6</td>\n",
       "      <td>PAIDOFF</td>\n",
       "      <td>1000</td>\n",
       "      <td>30</td>\n",
       "      <td>2016-09-09</td>\n",
       "      <td>2016-10-08</td>\n",
       "      <td>29</td>\n",
       "      <td>college</td>\n",
       "      <td>male</td>\n",
       "      <td>4</td>\n",
       "      <td>1</td>\n",
       "    </tr>\n",
       "  </tbody>\n",
       "</table>\n",
       "</div>"
      ],
      "text/plain": [
       "   Unnamed: 0  Unnamed: 0.1 loan_status  Principal  terms effective_date  \\\n",
       "0           0             0     PAIDOFF       1000     30     2016-09-08   \n",
       "1           2             2     PAIDOFF       1000     30     2016-09-08   \n",
       "2           3             3     PAIDOFF       1000     15     2016-09-08   \n",
       "3           4             4     PAIDOFF       1000     30     2016-09-09   \n",
       "4           6             6     PAIDOFF       1000     30     2016-09-09   \n",
       "\n",
       "    due_date  age             education  Gender  dayofweek  weekend  \n",
       "0 2016-10-07   45  High School or Below    male          3        0  \n",
       "1 2016-10-07   33              Bechalor  female          3        0  \n",
       "2 2016-09-22   27               college    male          3        0  \n",
       "3 2016-10-08   28               college  female          4        1  \n",
       "4 2016-10-08   29               college    male          4        1  "
      ]
     },
     "execution_count": 379,
     "metadata": {},
     "output_type": "execute_result"
    }
   ],
   "source": [
    "df['weekend'] = df['dayofweek'].apply(lambda x: 1 if (x>3)  else 0)\n",
    "df.head()"
   ]
  },
  {
   "cell_type": "code",
   "execution_count": 380,
   "id": "extraordinary-drill",
   "metadata": {},
   "outputs": [
    {
     "data": {
      "text/plain": [
       "Gender  loan_status\n",
       "female  PAIDOFF        0.865385\n",
       "        COLLECTION     0.134615\n",
       "male    PAIDOFF        0.731293\n",
       "        COLLECTION     0.268707\n",
       "Name: loan_status, dtype: float64"
      ]
     },
     "execution_count": 380,
     "metadata": {},
     "output_type": "execute_result"
    }
   ],
   "source": [
    "df.groupby(['Gender'])['loan_status'].value_counts(normalize=True)"
   ]
  },
  {
   "cell_type": "code",
   "execution_count": 381,
   "id": "renewable-boundary",
   "metadata": {},
   "outputs": [
    {
     "data": {
      "text/html": [
       "<div>\n",
       "<style scoped>\n",
       "    .dataframe tbody tr th:only-of-type {\n",
       "        vertical-align: middle;\n",
       "    }\n",
       "\n",
       "    .dataframe tbody tr th {\n",
       "        vertical-align: top;\n",
       "    }\n",
       "\n",
       "    .dataframe thead th {\n",
       "        text-align: right;\n",
       "    }\n",
       "</style>\n",
       "<table border=\"1\" class=\"dataframe\">\n",
       "  <thead>\n",
       "    <tr style=\"text-align: right;\">\n",
       "      <th></th>\n",
       "      <th>Unnamed: 0</th>\n",
       "      <th>Unnamed: 0.1</th>\n",
       "      <th>loan_status</th>\n",
       "      <th>Principal</th>\n",
       "      <th>terms</th>\n",
       "      <th>effective_date</th>\n",
       "      <th>due_date</th>\n",
       "      <th>age</th>\n",
       "      <th>education</th>\n",
       "      <th>Gender</th>\n",
       "      <th>dayofweek</th>\n",
       "      <th>weekend</th>\n",
       "    </tr>\n",
       "  </thead>\n",
       "  <tbody>\n",
       "    <tr>\n",
       "      <th>0</th>\n",
       "      <td>0</td>\n",
       "      <td>0</td>\n",
       "      <td>PAIDOFF</td>\n",
       "      <td>1000</td>\n",
       "      <td>30</td>\n",
       "      <td>2016-09-08</td>\n",
       "      <td>2016-10-07</td>\n",
       "      <td>45</td>\n",
       "      <td>High School or Below</td>\n",
       "      <td>0</td>\n",
       "      <td>3</td>\n",
       "      <td>0</td>\n",
       "    </tr>\n",
       "    <tr>\n",
       "      <th>1</th>\n",
       "      <td>2</td>\n",
       "      <td>2</td>\n",
       "      <td>PAIDOFF</td>\n",
       "      <td>1000</td>\n",
       "      <td>30</td>\n",
       "      <td>2016-09-08</td>\n",
       "      <td>2016-10-07</td>\n",
       "      <td>33</td>\n",
       "      <td>Bechalor</td>\n",
       "      <td>1</td>\n",
       "      <td>3</td>\n",
       "      <td>0</td>\n",
       "    </tr>\n",
       "    <tr>\n",
       "      <th>2</th>\n",
       "      <td>3</td>\n",
       "      <td>3</td>\n",
       "      <td>PAIDOFF</td>\n",
       "      <td>1000</td>\n",
       "      <td>15</td>\n",
       "      <td>2016-09-08</td>\n",
       "      <td>2016-09-22</td>\n",
       "      <td>27</td>\n",
       "      <td>college</td>\n",
       "      <td>0</td>\n",
       "      <td>3</td>\n",
       "      <td>0</td>\n",
       "    </tr>\n",
       "    <tr>\n",
       "      <th>3</th>\n",
       "      <td>4</td>\n",
       "      <td>4</td>\n",
       "      <td>PAIDOFF</td>\n",
       "      <td>1000</td>\n",
       "      <td>30</td>\n",
       "      <td>2016-09-09</td>\n",
       "      <td>2016-10-08</td>\n",
       "      <td>28</td>\n",
       "      <td>college</td>\n",
       "      <td>1</td>\n",
       "      <td>4</td>\n",
       "      <td>1</td>\n",
       "    </tr>\n",
       "    <tr>\n",
       "      <th>4</th>\n",
       "      <td>6</td>\n",
       "      <td>6</td>\n",
       "      <td>PAIDOFF</td>\n",
       "      <td>1000</td>\n",
       "      <td>30</td>\n",
       "      <td>2016-09-09</td>\n",
       "      <td>2016-10-08</td>\n",
       "      <td>29</td>\n",
       "      <td>college</td>\n",
       "      <td>0</td>\n",
       "      <td>4</td>\n",
       "      <td>1</td>\n",
       "    </tr>\n",
       "  </tbody>\n",
       "</table>\n",
       "</div>"
      ],
      "text/plain": [
       "   Unnamed: 0  Unnamed: 0.1 loan_status  Principal  terms effective_date  \\\n",
       "0           0             0     PAIDOFF       1000     30     2016-09-08   \n",
       "1           2             2     PAIDOFF       1000     30     2016-09-08   \n",
       "2           3             3     PAIDOFF       1000     15     2016-09-08   \n",
       "3           4             4     PAIDOFF       1000     30     2016-09-09   \n",
       "4           6             6     PAIDOFF       1000     30     2016-09-09   \n",
       "\n",
       "    due_date  age             education  Gender  dayofweek  weekend  \n",
       "0 2016-10-07   45  High School or Below       0          3        0  \n",
       "1 2016-10-07   33              Bechalor       1          3        0  \n",
       "2 2016-09-22   27               college       0          3        0  \n",
       "3 2016-10-08   28               college       1          4        1  \n",
       "4 2016-10-08   29               college       0          4        1  "
      ]
     },
     "execution_count": 381,
     "metadata": {},
     "output_type": "execute_result"
    }
   ],
   "source": [
    "df['Gender'].replace(to_replace=['male','female'], value=[0,1],inplace=True)\n",
    "df.head()"
   ]
  },
  {
   "cell_type": "code",
   "execution_count": 382,
   "id": "through-spyware",
   "metadata": {},
   "outputs": [
    {
     "data": {
      "text/plain": [
       "education             loan_status\n",
       "Bechalor              PAIDOFF        0.750000\n",
       "                      COLLECTION     0.250000\n",
       "High School or Below  PAIDOFF        0.741722\n",
       "                      COLLECTION     0.258278\n",
       "Master or Above       COLLECTION     0.500000\n",
       "                      PAIDOFF        0.500000\n",
       "college               PAIDOFF        0.765101\n",
       "                      COLLECTION     0.234899\n",
       "Name: loan_status, dtype: float64"
      ]
     },
     "execution_count": 382,
     "metadata": {},
     "output_type": "execute_result"
    }
   ],
   "source": [
    "df.groupby(['education'])['loan_status'].value_counts(normalize=True)"
   ]
  },
  {
   "cell_type": "code",
   "execution_count": 383,
   "id": "advised-scale",
   "metadata": {},
   "outputs": [
    {
     "data": {
      "text/html": [
       "<div>\n",
       "<style scoped>\n",
       "    .dataframe tbody tr th:only-of-type {\n",
       "        vertical-align: middle;\n",
       "    }\n",
       "\n",
       "    .dataframe tbody tr th {\n",
       "        vertical-align: top;\n",
       "    }\n",
       "\n",
       "    .dataframe thead th {\n",
       "        text-align: right;\n",
       "    }\n",
       "</style>\n",
       "<table border=\"1\" class=\"dataframe\">\n",
       "  <thead>\n",
       "    <tr style=\"text-align: right;\">\n",
       "      <th></th>\n",
       "      <th>Principal</th>\n",
       "      <th>terms</th>\n",
       "      <th>age</th>\n",
       "      <th>Gender</th>\n",
       "      <th>education</th>\n",
       "    </tr>\n",
       "  </thead>\n",
       "  <tbody>\n",
       "    <tr>\n",
       "      <th>0</th>\n",
       "      <td>1000</td>\n",
       "      <td>30</td>\n",
       "      <td>45</td>\n",
       "      <td>0</td>\n",
       "      <td>High School or Below</td>\n",
       "    </tr>\n",
       "    <tr>\n",
       "      <th>1</th>\n",
       "      <td>1000</td>\n",
       "      <td>30</td>\n",
       "      <td>33</td>\n",
       "      <td>1</td>\n",
       "      <td>Bechalor</td>\n",
       "    </tr>\n",
       "    <tr>\n",
       "      <th>2</th>\n",
       "      <td>1000</td>\n",
       "      <td>15</td>\n",
       "      <td>27</td>\n",
       "      <td>0</td>\n",
       "      <td>college</td>\n",
       "    </tr>\n",
       "    <tr>\n",
       "      <th>3</th>\n",
       "      <td>1000</td>\n",
       "      <td>30</td>\n",
       "      <td>28</td>\n",
       "      <td>1</td>\n",
       "      <td>college</td>\n",
       "    </tr>\n",
       "    <tr>\n",
       "      <th>4</th>\n",
       "      <td>1000</td>\n",
       "      <td>30</td>\n",
       "      <td>29</td>\n",
       "      <td>0</td>\n",
       "      <td>college</td>\n",
       "    </tr>\n",
       "  </tbody>\n",
       "</table>\n",
       "</div>"
      ],
      "text/plain": [
       "   Principal  terms  age  Gender             education\n",
       "0       1000     30   45       0  High School or Below\n",
       "1       1000     30   33       1              Bechalor\n",
       "2       1000     15   27       0               college\n",
       "3       1000     30   28       1               college\n",
       "4       1000     30   29       0               college"
      ]
     },
     "execution_count": 383,
     "metadata": {},
     "output_type": "execute_result"
    }
   ],
   "source": [
    "df[['Principal','terms','age','Gender','education']].head()"
   ]
  },
  {
   "cell_type": "code",
   "execution_count": 384,
   "id": "elect-fields",
   "metadata": {},
   "outputs": [
    {
     "data": {
      "text/html": [
       "<div>\n",
       "<style scoped>\n",
       "    .dataframe tbody tr th:only-of-type {\n",
       "        vertical-align: middle;\n",
       "    }\n",
       "\n",
       "    .dataframe tbody tr th {\n",
       "        vertical-align: top;\n",
       "    }\n",
       "\n",
       "    .dataframe thead th {\n",
       "        text-align: right;\n",
       "    }\n",
       "</style>\n",
       "<table border=\"1\" class=\"dataframe\">\n",
       "  <thead>\n",
       "    <tr style=\"text-align: right;\">\n",
       "      <th></th>\n",
       "      <th>Unnamed: 0</th>\n",
       "      <th>Unnamed: 0.1</th>\n",
       "      <th>loan_status</th>\n",
       "      <th>Principal</th>\n",
       "      <th>terms</th>\n",
       "      <th>effective_date</th>\n",
       "      <th>due_date</th>\n",
       "      <th>age</th>\n",
       "      <th>education</th>\n",
       "      <th>Gender</th>\n",
       "      <th>dayofweek</th>\n",
       "      <th>weekend</th>\n",
       "    </tr>\n",
       "  </thead>\n",
       "  <tbody>\n",
       "    <tr>\n",
       "      <th>0</th>\n",
       "      <td>0</td>\n",
       "      <td>0</td>\n",
       "      <td>1</td>\n",
       "      <td>1000</td>\n",
       "      <td>30</td>\n",
       "      <td>2016-09-08</td>\n",
       "      <td>2016-10-07</td>\n",
       "      <td>45</td>\n",
       "      <td>High School or Below</td>\n",
       "      <td>0</td>\n",
       "      <td>3</td>\n",
       "      <td>0</td>\n",
       "    </tr>\n",
       "    <tr>\n",
       "      <th>1</th>\n",
       "      <td>2</td>\n",
       "      <td>2</td>\n",
       "      <td>1</td>\n",
       "      <td>1000</td>\n",
       "      <td>30</td>\n",
       "      <td>2016-09-08</td>\n",
       "      <td>2016-10-07</td>\n",
       "      <td>33</td>\n",
       "      <td>Bechalor</td>\n",
       "      <td>1</td>\n",
       "      <td>3</td>\n",
       "      <td>0</td>\n",
       "    </tr>\n",
       "    <tr>\n",
       "      <th>2</th>\n",
       "      <td>3</td>\n",
       "      <td>3</td>\n",
       "      <td>1</td>\n",
       "      <td>1000</td>\n",
       "      <td>15</td>\n",
       "      <td>2016-09-08</td>\n",
       "      <td>2016-09-22</td>\n",
       "      <td>27</td>\n",
       "      <td>college</td>\n",
       "      <td>0</td>\n",
       "      <td>3</td>\n",
       "      <td>0</td>\n",
       "    </tr>\n",
       "    <tr>\n",
       "      <th>3</th>\n",
       "      <td>4</td>\n",
       "      <td>4</td>\n",
       "      <td>1</td>\n",
       "      <td>1000</td>\n",
       "      <td>30</td>\n",
       "      <td>2016-09-09</td>\n",
       "      <td>2016-10-08</td>\n",
       "      <td>28</td>\n",
       "      <td>college</td>\n",
       "      <td>1</td>\n",
       "      <td>4</td>\n",
       "      <td>1</td>\n",
       "    </tr>\n",
       "    <tr>\n",
       "      <th>4</th>\n",
       "      <td>6</td>\n",
       "      <td>6</td>\n",
       "      <td>1</td>\n",
       "      <td>1000</td>\n",
       "      <td>30</td>\n",
       "      <td>2016-09-09</td>\n",
       "      <td>2016-10-08</td>\n",
       "      <td>29</td>\n",
       "      <td>college</td>\n",
       "      <td>0</td>\n",
       "      <td>4</td>\n",
       "      <td>1</td>\n",
       "    </tr>\n",
       "  </tbody>\n",
       "</table>\n",
       "</div>"
      ],
      "text/plain": [
       "   Unnamed: 0  Unnamed: 0.1  loan_status  Principal  terms effective_date  \\\n",
       "0           0             0            1       1000     30     2016-09-08   \n",
       "1           2             2            1       1000     30     2016-09-08   \n",
       "2           3             3            1       1000     15     2016-09-08   \n",
       "3           4             4            1       1000     30     2016-09-09   \n",
       "4           6             6            1       1000     30     2016-09-09   \n",
       "\n",
       "    due_date  age             education  Gender  dayofweek  weekend  \n",
       "0 2016-10-07   45  High School or Below       0          3        0  \n",
       "1 2016-10-07   33              Bechalor       1          3        0  \n",
       "2 2016-09-22   27               college       0          3        0  \n",
       "3 2016-10-08   28               college       1          4        1  \n",
       "4 2016-10-08   29               college       0          4        1  "
      ]
     },
     "execution_count": 384,
     "metadata": {},
     "output_type": "execute_result"
    }
   ],
   "source": [
    "df['loan_status'].replace(to_replace=['COLLECTION','PAIDOFF'], value=[0,1],inplace=True)\n",
    "df.head()"
   ]
  },
  {
   "cell_type": "code",
   "execution_count": 385,
   "id": "induced-insider",
   "metadata": {},
   "outputs": [
    {
     "data": {
      "text/html": [
       "<div>\n",
       "<style scoped>\n",
       "    .dataframe tbody tr th:only-of-type {\n",
       "        vertical-align: middle;\n",
       "    }\n",
       "\n",
       "    .dataframe tbody tr th {\n",
       "        vertical-align: top;\n",
       "    }\n",
       "\n",
       "    .dataframe thead th {\n",
       "        text-align: right;\n",
       "    }\n",
       "</style>\n",
       "<table border=\"1\" class=\"dataframe\">\n",
       "  <thead>\n",
       "    <tr style=\"text-align: right;\">\n",
       "      <th></th>\n",
       "      <th>Principal</th>\n",
       "      <th>terms</th>\n",
       "      <th>age</th>\n",
       "      <th>Gender</th>\n",
       "      <th>weekend</th>\n",
       "      <th>Bechalor</th>\n",
       "      <th>High School or Below</th>\n",
       "      <th>college</th>\n",
       "    </tr>\n",
       "  </thead>\n",
       "  <tbody>\n",
       "    <tr>\n",
       "      <th>0</th>\n",
       "      <td>1000</td>\n",
       "      <td>30</td>\n",
       "      <td>45</td>\n",
       "      <td>0</td>\n",
       "      <td>0</td>\n",
       "      <td>0</td>\n",
       "      <td>1</td>\n",
       "      <td>0</td>\n",
       "    </tr>\n",
       "    <tr>\n",
       "      <th>1</th>\n",
       "      <td>1000</td>\n",
       "      <td>30</td>\n",
       "      <td>33</td>\n",
       "      <td>1</td>\n",
       "      <td>0</td>\n",
       "      <td>1</td>\n",
       "      <td>0</td>\n",
       "      <td>0</td>\n",
       "    </tr>\n",
       "    <tr>\n",
       "      <th>2</th>\n",
       "      <td>1000</td>\n",
       "      <td>15</td>\n",
       "      <td>27</td>\n",
       "      <td>0</td>\n",
       "      <td>0</td>\n",
       "      <td>0</td>\n",
       "      <td>0</td>\n",
       "      <td>1</td>\n",
       "    </tr>\n",
       "    <tr>\n",
       "      <th>3</th>\n",
       "      <td>1000</td>\n",
       "      <td>30</td>\n",
       "      <td>28</td>\n",
       "      <td>1</td>\n",
       "      <td>1</td>\n",
       "      <td>0</td>\n",
       "      <td>0</td>\n",
       "      <td>1</td>\n",
       "    </tr>\n",
       "    <tr>\n",
       "      <th>4</th>\n",
       "      <td>1000</td>\n",
       "      <td>30</td>\n",
       "      <td>29</td>\n",
       "      <td>0</td>\n",
       "      <td>1</td>\n",
       "      <td>0</td>\n",
       "      <td>0</td>\n",
       "      <td>1</td>\n",
       "    </tr>\n",
       "  </tbody>\n",
       "</table>\n",
       "</div>"
      ],
      "text/plain": [
       "   Principal  terms  age  Gender  weekend  Bechalor  High School or Below  \\\n",
       "0       1000     30   45       0        0         0                     1   \n",
       "1       1000     30   33       1        0         1                     0   \n",
       "2       1000     15   27       0        0         0                     0   \n",
       "3       1000     30   28       1        1         0                     0   \n",
       "4       1000     30   29       0        1         0                     0   \n",
       "\n",
       "   college  \n",
       "0        0  \n",
       "1        0  \n",
       "2        1  \n",
       "3        1  \n",
       "4        1  "
      ]
     },
     "execution_count": 385,
     "metadata": {},
     "output_type": "execute_result"
    }
   ],
   "source": [
    "Feature = df[['Principal','terms','age','Gender','weekend']]\n",
    "Feature = pd.concat([Feature,pd.get_dummies(df['education'])], axis=1)\n",
    "Feature.drop(['Master or Above'], axis = 1,inplace=True)\n",
    "Feature.head()\n"
   ]
  },
  {
   "cell_type": "code",
   "execution_count": 386,
   "id": "adopted-western",
   "metadata": {},
   "outputs": [
    {
     "data": {
      "text/html": [
       "<div>\n",
       "<style scoped>\n",
       "    .dataframe tbody tr th:only-of-type {\n",
       "        vertical-align: middle;\n",
       "    }\n",
       "\n",
       "    .dataframe tbody tr th {\n",
       "        vertical-align: top;\n",
       "    }\n",
       "\n",
       "    .dataframe thead th {\n",
       "        text-align: right;\n",
       "    }\n",
       "</style>\n",
       "<table border=\"1\" class=\"dataframe\">\n",
       "  <thead>\n",
       "    <tr style=\"text-align: right;\">\n",
       "      <th></th>\n",
       "      <th>Principal</th>\n",
       "      <th>terms</th>\n",
       "      <th>age</th>\n",
       "      <th>Gender</th>\n",
       "      <th>weekend</th>\n",
       "      <th>Bechalor</th>\n",
       "      <th>High School or Below</th>\n",
       "      <th>college</th>\n",
       "    </tr>\n",
       "  </thead>\n",
       "  <tbody>\n",
       "    <tr>\n",
       "      <th>0</th>\n",
       "      <td>1000</td>\n",
       "      <td>30</td>\n",
       "      <td>45</td>\n",
       "      <td>0</td>\n",
       "      <td>0</td>\n",
       "      <td>0</td>\n",
       "      <td>1</td>\n",
       "      <td>0</td>\n",
       "    </tr>\n",
       "    <tr>\n",
       "      <th>1</th>\n",
       "      <td>1000</td>\n",
       "      <td>30</td>\n",
       "      <td>33</td>\n",
       "      <td>1</td>\n",
       "      <td>0</td>\n",
       "      <td>1</td>\n",
       "      <td>0</td>\n",
       "      <td>0</td>\n",
       "    </tr>\n",
       "    <tr>\n",
       "      <th>2</th>\n",
       "      <td>1000</td>\n",
       "      <td>15</td>\n",
       "      <td>27</td>\n",
       "      <td>0</td>\n",
       "      <td>0</td>\n",
       "      <td>0</td>\n",
       "      <td>0</td>\n",
       "      <td>1</td>\n",
       "    </tr>\n",
       "    <tr>\n",
       "      <th>3</th>\n",
       "      <td>1000</td>\n",
       "      <td>30</td>\n",
       "      <td>28</td>\n",
       "      <td>1</td>\n",
       "      <td>1</td>\n",
       "      <td>0</td>\n",
       "      <td>0</td>\n",
       "      <td>1</td>\n",
       "    </tr>\n",
       "    <tr>\n",
       "      <th>4</th>\n",
       "      <td>1000</td>\n",
       "      <td>30</td>\n",
       "      <td>29</td>\n",
       "      <td>0</td>\n",
       "      <td>1</td>\n",
       "      <td>0</td>\n",
       "      <td>0</td>\n",
       "      <td>1</td>\n",
       "    </tr>\n",
       "  </tbody>\n",
       "</table>\n",
       "</div>"
      ],
      "text/plain": [
       "   Principal  terms  age  Gender  weekend  Bechalor  High School or Below  \\\n",
       "0       1000     30   45       0        0         0                     1   \n",
       "1       1000     30   33       1        0         1                     0   \n",
       "2       1000     15   27       0        0         0                     0   \n",
       "3       1000     30   28       1        1         0                     0   \n",
       "4       1000     30   29       0        1         0                     0   \n",
       "\n",
       "   college  \n",
       "0        0  \n",
       "1        0  \n",
       "2        1  \n",
       "3        1  \n",
       "4        1  "
      ]
     },
     "execution_count": 386,
     "metadata": {},
     "output_type": "execute_result"
    }
   ],
   "source": [
    "X = Feature\n",
    "X[0:5]"
   ]
  },
  {
   "cell_type": "code",
   "execution_count": 387,
   "id": "expected-music",
   "metadata": {},
   "outputs": [
    {
     "data": {
      "text/plain": [
       "array([1, 1, 1, 1, 1], dtype=int64)"
      ]
     },
     "execution_count": 387,
     "metadata": {},
     "output_type": "execute_result"
    }
   ],
   "source": [
    "y = df['loan_status'].values\n",
    "y[0:5]"
   ]
  },
  {
   "cell_type": "code",
   "execution_count": 388,
   "id": "ordered-incentive",
   "metadata": {},
   "outputs": [
    {
     "data": {
      "text/plain": [
       "array([[ 0.51578458,  0.92071769,  2.33152555, -0.42056004, -1.20577805,\n",
       "        -0.38170062,  1.13639374, -0.86968108],\n",
       "       [ 0.51578458,  0.92071769,  0.34170148,  2.37778177, -1.20577805,\n",
       "         2.61985426, -0.87997669, -0.86968108],\n",
       "       [ 0.51578458, -0.95911111, -0.65321055, -0.42056004, -1.20577805,\n",
       "        -0.38170062, -0.87997669,  1.14984679],\n",
       "       [ 0.51578458,  0.92071769, -0.48739188,  2.37778177,  0.82934003,\n",
       "        -0.38170062, -0.87997669,  1.14984679],\n",
       "       [ 0.51578458,  0.92071769, -0.3215732 , -0.42056004,  0.82934003,\n",
       "        -0.38170062, -0.87997669,  1.14984679]])"
      ]
     },
     "execution_count": 388,
     "metadata": {},
     "output_type": "execute_result"
    }
   ],
   "source": [
    "X= preprocessing.StandardScaler().fit(X).transform(X)\n",
    "X[0:5]"
   ]
  },
  {
   "cell_type": "code",
   "execution_count": 389,
   "id": "institutional-tucson",
   "metadata": {},
   "outputs": [
    {
     "data": {
      "text/plain": [
       "array([1, 0, 1, 1, 1], dtype=int64)"
      ]
     },
     "execution_count": 389,
     "metadata": {},
     "output_type": "execute_result"
    }
   ],
   "source": [
    "from sklearn.model_selection import train_test_split as tts\n",
    "X_train,X_test,y_train, y_test =tts(X,y,test_size=0.2,random_state=4) \n",
    "X_train[:5]\n",
    "y_train[:5]"
   ]
  },
  {
   "cell_type": "markdown",
   "id": "active-certificate",
   "metadata": {},
   "source": [
    "# KNN"
   ]
  },
  {
   "cell_type": "markdown",
   "id": "continental-variable",
   "metadata": {},
   "source": [
    "### Choosing the best value of K by hit and try."
   ]
  },
  {
   "cell_type": "code",
   "execution_count": 390,
   "id": "monthly-wealth",
   "metadata": {},
   "outputs": [
    {
     "name": "stdout",
     "output_type": "stream",
     "text": [
      "For the train set: /n ['2: 0.822463768115942', '3: 0.8333333333333334', '4: 0.8152173913043478', '5: 0.8152173913043478', '6: 0.8007246376811594', '7: 0.8079710144927537', '8: 0.7971014492753623', '9: 0.7898550724637681', '10: 0.7753623188405797', '11: 0.7898550724637681', '12: 0.782608695652174', '13: 0.7789855072463768', '14: 0.7681159420289855']\n",
      "For the test set: /n ['2: 0.6571428571428571', '3: 0.7142857142857143', '4: 0.6857142857142857', '5: 0.7571428571428571', '6: 0.7142857142857143', '7: 0.7857142857142857', '8: 0.7571428571428571', '9: 0.7571428571428571', '10: 0.6714285714285714', '11: 0.7', '12: 0.7285714285714285', '13: 0.7', '14: 0.7']\n"
     ]
    }
   ],
   "source": [
    "list1=[]\n",
    "list2=[]\n",
    "from sklearn.neighbors import KNeighborsClassifier as KNN\n",
    "from sklearn import metrics\n",
    "for k in range(2,15):\n",
    "    neigh = KNN(n_neighbors=k).fit(X_train,y_train)\n",
    "    y_pred = neigh.predict(X_test)\n",
    "    list1.append(\"{}: {}\".format(k,metrics.accuracy_score(y_test,y_pred)))\n",
    "    list2.append(f\"{k}: { metrics.accuracy_score(y_train,neigh.predict(X_train))}\")\n",
    "print(\"For the train set: /n\",list2)\n",
    "print(\"For the test set: /n\",list1)"
   ]
  },
  {
   "cell_type": "markdown",
   "id": "humanitarian-variable",
   "metadata": {},
   "source": [
    "### Choosing the best value of K graphically."
   ]
  },
  {
   "cell_type": "code",
   "execution_count": 391,
   "id": "dressed-handbook",
   "metadata": {},
   "outputs": [
    {
     "data": {
      "image/png": "[encoded data removed]",
      "text/plain": [
       "<Figure size 432x288 with 1 Axes>"
      ]
     },
     "metadata": {
      "needs_background": "light"
     },
     "output_type": "display_data"
    }
   ],
   "source": [
    "Ks = 10\n",
    "mean_acc = np.zeros((Ks-1))\n",
    "std_acc = np.zeros((Ks-1))\n",
    "\n",
    "for n in range(1,Ks):\n",
    "    \n",
    "    neigh = KNN(n_neighbors = n).fit(X_train,y_train)\n",
    "    yhat=neigh.predict(X_test)\n",
    "    mean_acc[n-1] = metrics.accuracy_score(y_test, yhat)\n",
    "\n",
    "    \n",
    "    std_acc[n-1]=np.std(yhat==y_test)/np.sqrt(yhat.shape[0])\n",
    "\n",
    "mean_acc\n",
    "plt.plot(range(1,Ks),mean_acc,'g')\n",
    "plt.fill_between(range(1,Ks),mean_acc - 1 * std_acc,mean_acc + 1 * std_acc, alpha=0.10)\n",
    "plt.fill_between(range(1,Ks),mean_acc - 3 * std_acc,mean_acc + 3 * std_acc, alpha=0.10,color=\"green\")\n",
    "plt.legend(('Accuracy ', '+/- 1xstd','+/- 3xstd'))\n",
    "plt.ylabel('Accuracy ')\n",
    "plt.xlabel('Number of Neighbors (K)')\n",
    "plt.tight_layout()\n",
    "plt.show()"
   ]
  },
  {
   "cell_type": "code",
   "execution_count": 392,
   "id": "governing-idaho",
   "metadata": {},
   "outputs": [
    {
     "data": {
      "text/plain": [
       "array([1, 1, 1, 1, 1], dtype=int64)"
      ]
     },
     "execution_count": 392,
     "metadata": {},
     "output_type": "execute_result"
    }
   ],
   "source": [
    "k=7\n",
    "neigh = KNN(n_neighbors=k).fit(X_train,y_train)\n",
    "neigh\n",
    "y_pred = neigh.predict(X_test)\n",
    "y_pred[:5]"
   ]
  },
  {
   "cell_type": "code",
   "execution_count": 393,
   "id": "extensive-surrey",
   "metadata": {},
   "outputs": [
    {
     "data": {
      "text/plain": [
       "array([0.57142857, 0.57142857, 1.        , 0.85714286, 1.        ,\n",
       "       1.        , 0.42857143, 0.14285714, 0.85714286, 0.71428571,\n",
       "       0.85714286, 0.57142857, 1.        , 1.        , 0.57142857,\n",
       "       1.        , 0.57142857, 1.        , 0.57142857, 1.        ,\n",
       "       0.71428571, 0.57142857, 0.28571429, 0.71428571, 0.85714286,\n",
       "       0.42857143, 0.28571429, 0.85714286, 0.71428571, 0.85714286,\n",
       "       0.42857143, 0.71428571, 0.71428571, 0.85714286, 1.        ,\n",
       "       0.42857143, 0.57142857, 1.        , 0.71428571, 0.85714286,\n",
       "       0.42857143, 1.        , 0.71428571, 0.42857143, 1.        ,\n",
       "       0.57142857, 0.57142857, 0.57142857, 0.42857143, 0.57142857,\n",
       "       1.        , 0.71428571, 1.        , 0.57142857, 1.        ,\n",
       "       0.71428571, 1.        , 0.71428571, 0.42857143, 1.        ,\n",
       "       0.71428571, 0.85714286, 0.42857143, 0.57142857, 1.        ,\n",
       "       0.57142857, 0.85714286, 0.71428571, 0.57142857, 1.        ])"
      ]
     },
     "execution_count": 393,
     "metadata": {},
     "output_type": "execute_result"
    }
   ],
   "source": [
    "clf = KNN(7)\n",
    "clf.fit(X_train,y_train)\n",
    "y_score = clf.predict_proba(X_test)[:,1]\n",
    "y_score"
   ]
  },
  {
   "cell_type": "markdown",
   "id": "graphic-batman",
   "metadata": {},
   "source": [
    "### Graphically Representing the results."
   ]
  },
  {
   "cell_type": "code",
   "execution_count": 394,
   "id": "ready-colorado",
   "metadata": {},
   "outputs": [
    {
     "data": {
      "application/vnd.plotly.v1+json": {
       "config": {
        "plotlyServerURL": "https://plot.ly"
       },
       "data": [
        {
         "hovertemplate": "label=1<br>index=%{x}<br>value=%{y}<br>score of <br>first class=%{marker.color}<extra></extra>",
         "legendgroup": "1",
         "marker": {
          "color": [
           0.5714285714285714,
           0.5714285714285714,
           1,
           0.8571428571428571,
           1,
           1,
           0.14285714285714285,
           0.8571428571428571,
           0.7142857142857143,
           1,
           1,
           0.5714285714285714,
           1,
           0.5714285714285714,
           1,
           0.5714285714285714,
           1,
           0.7142857142857143,
           0.5714285714285714,
           0.7142857142857143,
           0.8571428571428571,
           0.42857142857142855,
           0.2857142857142857,
           0.8571428571428571,
           0.7142857142857143,
           0.8571428571428571,
           0.7142857142857143,
           0.7142857142857143,
           0.8571428571428571,
           1,
           0.5714285714285714,
           1,
           0.42857142857142855,
           1,
           1,
           0.5714285714285714,
           0.5714285714285714,
           0.5714285714285714,
           0.42857142857142855,
           0.5714285714285714,
           1,
           0.7142857142857143,
           1,
           0.5714285714285714,
           1,
           0.7142857142857143,
           1,
           1,
           0.8571428571428571,
           0.42857142857142855,
           0.5714285714285714,
           1,
           0.8571428571428571,
           0.7142857142857143,
           1,
           0.5714285714285714,
           0.5714285714285714,
           1,
           0.8571428571428571,
           1,
           1,
           0.14285714285714285,
           0.8571428571428571,
           0.7142857142857143,
           1,
           1,
           0.5714285714285714,
           1,
           0.5714285714285714,
           1,
           0.5714285714285714,
           1,
           0.7142857142857143,
           0.5714285714285714,
           0.7142857142857143,
           0.8571428571428571,
           0.42857142857142855,
           0.2857142857142857,
           0.8571428571428571,
           0.7142857142857143,
           0.8571428571428571,
           0.7142857142857143,
           0.7142857142857143,
           0.8571428571428571,
           1,
           0.5714285714285714,
           1,
           0.42857142857142855,
           1,
           1,
           0.5714285714285714,
           0.5714285714285714,
           0.5714285714285714,
           0.42857142857142855,
           0.5714285714285714,
           1,
           0.7142857142857143,
           1,
           0.5714285714285714,
           1,
           0.7142857142857143,
           1,
           1,
           0.8571428571428571,
           0.42857142857142855,
           0.5714285714285714,
           1,
           0.8571428571428571,
           0.7142857142857143,
           1,
           0.5714285714285714,
           0.5714285714285714,
           1,
           0.8571428571428571,
           1,
           1,
           0.14285714285714285,
           0.8571428571428571,
           0.7142857142857143,
           1,
           1,
           0.5714285714285714,
           1,
           0.5714285714285714,
           1,
           0.5714285714285714,
           1,
           0.7142857142857143,
           0.5714285714285714,
           0.7142857142857143,
           0.8571428571428571,
           0.42857142857142855,
           0.2857142857142857,
           0.8571428571428571,
           0.7142857142857143,
           0.8571428571428571,
           0.7142857142857143,
           0.7142857142857143,
           0.8571428571428571,
           1,
           0.5714285714285714,
           1,
           0.42857142857142855,
           1,
           1,
           0.5714285714285714,
           0.5714285714285714,
           0.5714285714285714,
           0.42857142857142855,
           0.5714285714285714,
           1,
           0.7142857142857143,
           1,
           0.5714285714285714,
           1,
           0.7142857142857143,
           1,
           1,
           0.8571428571428571,
           0.42857142857142855,
           0.5714285714285714,
           1,
           0.8571428571428571,
           0.7142857142857143,
           1,
           0.5714285714285714,
           0.5714285714285714,
           1,
           0.8571428571428571,
           1,
           1,
           0.14285714285714285,
           0.8571428571428571,
           0.7142857142857143,
           1,
           1,
           0.5714285714285714,
           1,
           0.5714285714285714,
           1,
           0.5714285714285714,
           1,
           0.7142857142857143,
           0.5714285714285714,
           0.7142857142857143,
           0.8571428571428571,
           0.42857142857142855,
           0.2857142857142857,
           0.8571428571428571,
           0.7142857142857143,
           0.8571428571428571,
           0.7142857142857143,
           0.7142857142857143,
           0.8571428571428571,
           1,
           0.5714285714285714,
           1,
           0.42857142857142855,
           1,
           1,
           0.5714285714285714,
           0.5714285714285714,
           0.5714285714285714,
           0.42857142857142855,
           0.5714285714285714,
           1,
           0.7142857142857143,
           1,
           0.5714285714285714,
           1,
           0.7142857142857143,
           1,
           1,
           0.8571428571428571,
           0.42857142857142855,
           0.5714285714285714,
           1,
           0.8571428571428571,
           0.7142857142857143,
           1,
           0.5714285714285714,
           0.5714285714285714,
           1,
           0.8571428571428571,
           1,
           1,
           0.14285714285714285,
           0.8571428571428571,
           0.7142857142857143,
           1,
           1,
           0.5714285714285714,
           1,
           0.5714285714285714,
           1,
           0.5714285714285714,
           1,
           0.7142857142857143,
           0.5714285714285714,
           0.7142857142857143,
           0.8571428571428571,
           0.42857142857142855,
           0.2857142857142857,
           0.8571428571428571,
           0.7142857142857143,
           0.8571428571428571,
           0.7142857142857143,
           0.7142857142857143,
           0.8571428571428571,
           1,
           0.5714285714285714,
           1,
           0.42857142857142855,
           1,
           1,
           0.5714285714285714,
           0.5714285714285714,
           0.5714285714285714,
           0.42857142857142855,
           0.5714285714285714,
           1,
           0.7142857142857143,
           1,
           0.5714285714285714,
           1,
           0.7142857142857143,
           1,
           1,
           0.8571428571428571,
           0.42857142857142855,
           0.5714285714285714,
           1,
           0.8571428571428571,
           0.7142857142857143,
           1,
           0.5714285714285714,
           0.5714285714285714,
           1,
           0.8571428571428571,
           1,
           1,
           0.14285714285714285,
           0.8571428571428571,
           0.7142857142857143,
           1,
           1,
           0.5714285714285714,
           1,
           0.5714285714285714,
           1,
           0.5714285714285714,
           1,
           0.7142857142857143,
           0.5714285714285714,
           0.7142857142857143,
           0.8571428571428571,
           0.42857142857142855,
           0.2857142857142857,
           0.8571428571428571,
           0.7142857142857143,
           0.8571428571428571,
           0.7142857142857143,
           0.7142857142857143,
           0.8571428571428571,
           1,
           0.5714285714285714,
           1,
           0.42857142857142855,
           1,
           1,
           0.5714285714285714,
           0.5714285714285714,
           0.5714285714285714,
           0.42857142857142855,
           0.5714285714285714,
           1,
           0.7142857142857143,
           1,
           0.5714285714285714,
           1,
           0.7142857142857143,
           1,
           1,
           0.8571428571428571,
           0.42857142857142855,
           0.5714285714285714,
           1,
           0.8571428571428571,
           0.7142857142857143,
           1,
           0.5714285714285714,
           0.5714285714285714,
           1,
           0.8571428571428571,
           1,
           1,
           0.14285714285714285,
           0.8571428571428571,
           0.7142857142857143,
           1,
           1,
           0.5714285714285714,
           1,
           0.5714285714285714,
           1,
           0.5714285714285714,
           1,
           0.7142857142857143,
           0.5714285714285714,
           0.7142857142857143,
           0.8571428571428571,
           0.42857142857142855,
           0.2857142857142857,
           0.8571428571428571,
           0.7142857142857143,
           0.8571428571428571,
           0.7142857142857143,
           0.7142857142857143,
           0.8571428571428571,
           1,
           0.5714285714285714,
           1,
           0.42857142857142855,
           1,
           1,
           0.5714285714285714,
           0.5714285714285714,
           0.5714285714285714,
           0.42857142857142855,
           0.5714285714285714,
           1,
           0.7142857142857143,
           1,
           0.5714285714285714,
           1,
           0.7142857142857143,
           1,
           1,
           0.8571428571428571,
           0.42857142857142855,
           0.5714285714285714,
           1,
           0.8571428571428571,
           0.7142857142857143,
           1,
           0.5714285714285714,
           0.5714285714285714,
           1,
           0.8571428571428571,
           1,
           1,
           0.14285714285714285,
           0.8571428571428571,
           0.7142857142857143,
           1,
           1,
           0.5714285714285714,
           1,
           0.5714285714285714,
           1,
           0.5714285714285714,
           1,
           0.7142857142857143,
           0.5714285714285714,
           0.7142857142857143,
           0.8571428571428571,
           0.42857142857142855,
           0.2857142857142857,
           0.8571428571428571,
           0.7142857142857143,
           0.8571428571428571,
           0.7142857142857143,
           0.7142857142857143,
           0.8571428571428571,
           1,
           0.5714285714285714,
           1,
           0.42857142857142855,
           1,
           1,
           0.5714285714285714,
           0.5714285714285714,
           0.5714285714285714,
           0.42857142857142855,
           0.5714285714285714,
           1,
           0.7142857142857143,
           1,
           0.5714285714285714,
           1,
           0.7142857142857143,
           1,
           1,
           0.8571428571428571,
           0.42857142857142855,
           0.5714285714285714,
           1,
           0.8571428571428571,
           0.7142857142857143,
           1
          ],
          "coloraxis": "coloraxis",
          "line": {
           "width": 1
          },
          "size": 7,
          "symbol": "square"
         },
         "mode": "markers",
         "name": "1",
         "orientation": "v",
         "showlegend": true,
         "type": "scatter",
         "x": [
          0,
          1,
          2,
          3,
          4,
          5,
          7,
          8,
          9,
          12,
          13,
          14,
          15,
          16,
          17,
          18,
          19,
          20,
          21,
          23,
          24,
          25,
          26,
          27,
          28,
          29,
          31,
          32,
          33,
          34,
          36,
          37,
          40,
          41,
          44,
          45,
          46,
          47,
          48,
          49,
          50,
          51,
          52,
          53,
          54,
          55,
          56,
          59,
          61,
          62,
          63,
          64,
          66,
          67,
          69,
          0,
          1,
          2,
          3,
          4,
          5,
          7,
          8,
          9,
          12,
          13,
          14,
          15,
          16,
          17,
          18,
          19,
          20,
          21,
          23,
          24,
          25,
          26,
          27,
          28,
          29,
          31,
          32,
          33,
          34,
          36,
          37,
          40,
          41,
          44,
          45,
          46,
          47,
          48,
          49,
          50,
          51,
          52,
          53,
          54,
          55,
          56,
          59,
          61,
          62,
          63,
          64,
          66,
          67,
          69,
          0,
          1,
          2,
          3,
          4,
          5,
          7,
          8,
          9,
          12,
          13,
          14,
          15,
          16,
          17,
          18,
          19,
          20,
          21,
          23,
          24,
          25,
          26,
          27,
          28,
          29,
          31,
          32,
          33,
          34,
          36,
          37,
          40,
          41,
          44,
          45,
          46,
          47,
          48,
          49,
          50,
          51,
          52,
          53,
          54,
          55,
          56,
          59,
          61,
          62,
          63,
          64,
          66,
          67,
          69,
          0,
          1,
          2,
          3,
          4,
          5,
          7,
          8,
          9,
          12,
          13,
          14,
          15,
          16,
          17,
          18,
          19,
          20,
          21,
          23,
          24,
          25,
          26,
          27,
          28,
          29,
          31,
          32,
          33,
          34,
          36,
          37,
          40,
          41,
          44,
          45,
          46,
          47,
          48,
          49,
          50,
          51,
          52,
          53,
          54,
          55,
          56,
          59,
          61,
          62,
          63,
          64,
          66,
          67,
          69,
          0,
          1,
          2,
          3,
          4,
          5,
          7,
          8,
          9,
          12,
          13,
          14,
          15,
          16,
          17,
          18,
          19,
          20,
          21,
          23,
          24,
          25,
          26,
          27,
          28,
          29,
          31,
          32,
          33,
          34,
          36,
          37,
          40,
          41,
          44,
          45,
          46,
          47,
          48,
          49,
          50,
          51,
          52,
          53,
          54,
          55,
          56,
          59,
          61,
          62,
          63,
          64,
          66,
          67,
          69,
          0,
          1,
          2,
          3,
          4,
          5,
          7,
          8,
          9,
          12,
          13,
          14,
          15,
          16,
          17,
          18,
          19,
          20,
          21,
          23,
          24,
          25,
          26,
          27,
          28,
          29,
          31,
          32,
          33,
          34,
          36,
          37,
          40,
          41,
          44,
          45,
          46,
          47,
          48,
          49,
          50,
          51,
          52,
          53,
          54,
          55,
          56,
          59,
          61,
          62,
          63,
          64,
          66,
          67,
          69,
          0,
          1,
          2,
          3,
          4,
          5,
          7,
          8,
          9,
          12,
          13,
          14,
          15,
          16,
          17,
          18,
          19,
          20,
          21,
          23,
          24,
          25,
          26,
          27,
          28,
          29,
          31,
          32,
          33,
          34,
          36,
          37,
          40,
          41,
          44,
          45,
          46,
          47,
          48,
          49,
          50,
          51,
          52,
          53,
          54,
          55,
          56,
          59,
          61,
          62,
          63,
          64,
          66,
          67,
          69,
          0,
          1,
          2,
          3,
          4,
          5,
          7,
          8,
          9,
          12,
          13,
          14,
          15,
          16,
          17,
          18,
          19,
          20,
          21,
          23,
          24,
          25,
          26,
          27,
          28,
          29,
          31,
          32,
          33,
          34,
          36,
          37,
          40,
          41,
          44,
          45,
          46,
          47,
          48,
          49,
          50,
          51,
          52,
          53,
          54,
          55,
          56,
          59,
          61,
          62,
          63,
          64,
          66,
          67,
          69
         ],
         "xaxis": "x",
         "y": [
          0.5157845830248696,
          -1.314589424427487,
          0.5157845830248696,
          0.5157845830248696,
          0.5157845830248696,
          0.5157845830248696,
          0.5157845830248696,
          0.5157845830248696,
          0.5157845830248696,
          -4.060150435606022,
          0.5157845830248696,
          0.5157845830248696,
          0.5157845830248696,
          0.5157845830248696,
          0.5157845830248696,
          0.5157845830248696,
          0.5157845830248696,
          0.5157845830248696,
          0.5157845830248696,
          0.5157845830248696,
          -0.3994024207013087,
          0.5157845830248696,
          0.5157845830248696,
          -1.314589424427487,
          0.5157845830248696,
          0.5157845830248696,
          0.5157845830248696,
          -1.314589424427487,
          0.5157845830248696,
          -1.314589424427487,
          0.5157845830248696,
          0.5157845830248696,
          0.5157845830248696,
          0.5157845830248696,
          0.5157845830248696,
          0.5157845830248696,
          0.5157845830248696,
          0.5157845830248696,
          0.5157845830248696,
          0.5157845830248696,
          0.5157845830248696,
          0.5157845830248696,
          -1.314589424427487,
          0.5157845830248696,
          -4.060150435606022,
          -1.314589424427487,
          0.5157845830248696,
          0.5157845830248696,
          0.5157845830248696,
          0.5157845830248696,
          0.5157845830248696,
          0.5157845830248696,
          0.5157845830248696,
          0.5157845830248696,
          0.5157845830248696,
          0.9207176908429558,
          -0.9591111114681931,
          -0.9591111114681931,
          0.9207176908429558,
          0.9207176908429558,
          -0.9591111114681931,
          0.9207176908429558,
          0.9207176908429558,
          -0.9591111114681931,
          -0.9591111114681931,
          0.9207176908429558,
          -0.9591111114681931,
          -1.9616864727008059,
          0.9207176908429558,
          -0.9591111114681931,
          0.9207176908429558,
          0.9207176908429558,
          0.9207176908429558,
          0.9207176908429558,
          0.9207176908429558,
          -1.9616864727008059,
          0.9207176908429558,
          0.9207176908429558,
          -0.9591111114681931,
          0.9207176908429558,
          -0.9591111114681931,
          0.9207176908429558,
          -0.9591111114681931,
          0.9207176908429558,
          -0.9591111114681931,
          0.9207176908429558,
          -1.9616864727008059,
          0.9207176908429558,
          0.9207176908429558,
          -0.9591111114681931,
          0.9207176908429558,
          -0.9591111114681931,
          0.9207176908429558,
          -0.9591111114681931,
          -1.9616864727008059,
          0.9207176908429558,
          -1.9616864727008059,
          -0.9591111114681931,
          0.9207176908429558,
          -1.9616864727008059,
          -0.9591111114681931,
          0.9207176908429558,
          0.9207176908429558,
          0.9207176908429558,
          -0.9591111114681931,
          0.9207176908429558,
          0.9207176908429558,
          0.9207176908429558,
          -0.9591111114681931,
          0.9207176908429558,
          -0.15575453289147095,
          -0.15575453289147095,
          0.010064139048371735,
          -1.1506665645305272,
          0.5075201548678998,
          -0.653210548710999,
          1.502432186506956,
          -1.1506665645305272,
          -1.8139412522898979,
          -1.3164852364703699,
          -0.653210548710999,
          2.3315255462061697,
          -0.8190292206508417,
          -1.4823039084102125,
          -0.15575453289147095,
          -0.48739187677115636,
          1.0049761706874278,
          0.34170148292805713,
          0.010064139048371735,
          -1.1506665645305272,
          -0.8190292206508417,
          -0.48739187677115636,
          -0.653210548710999,
          2.4973442181460124,
          -0.653210548710999,
          1.0049761706874278,
          -0.8190292206508417,
          -0.8190292206508417,
          0.6733388268077425,
          0.6733388268077425,
          -0.48739187677115636,
          0.010064139048371735,
          -0.8190292206508417,
          0.8391574987475853,
          -0.3215732048313137,
          -0.48739187677115636,
          -0.3215732048313137,
          -0.15575453289147095,
          0.6733388268077425,
          -0.3215732048313137,
          0.34170148292805713,
          -0.653210548710999,
          -0.8190292206508417,
          0.34170148292805713,
          -1.4823039084102125,
          3.3264375778452258,
          1.3366135145671134,
          -0.15575453289147095,
          -0.3215732048313137,
          0.5075201548678998,
          -1.6481225803500552,
          0.6733388268077425,
          -0.3215732048313137,
          0.17588281098821443,
          0.6733388268077425,
          -0.42056004125370705,
          -0.42056004125370705,
          -0.42056004125370705,
          -0.42056004125370705,
          -0.42056004125370705,
          -0.42056004125370705,
          -0.42056004125370705,
          -0.42056004125370705,
          -0.42056004125370705,
          2.3777817717036513,
          -0.42056004125370705,
          -0.42056004125370705,
          2.3777817717036513,
          -0.42056004125370705,
          -0.42056004125370705,
          -0.42056004125370705,
          -0.42056004125370705,
          2.3777817717036513,
          -0.42056004125370705,
          2.3777817717036513,
          2.3777817717036513,
          -0.42056004125370705,
          -0.42056004125370705,
          2.3777817717036513,
          -0.42056004125370705,
          2.3777817717036513,
          2.3777817717036513,
          -0.42056004125370705,
          -0.42056004125370705,
          2.3777817717036513,
          -0.42056004125370705,
          -0.42056004125370705,
          -0.42056004125370705,
          -0.42056004125370705,
          -0.42056004125370705,
          -0.42056004125370705,
          -0.42056004125370705,
          -0.42056004125370705,
          -0.42056004125370705,
          -0.42056004125370705,
          2.3777817717036513,
          -0.42056004125370705,
          -0.42056004125370705,
          -0.42056004125370705,
          -0.42056004125370705,
          -0.42056004125370705,
          -0.42056004125370705,
          -0.42056004125370705,
          -0.42056004125370705,
          -0.42056004125370705,
          -0.42056004125370705,
          -0.42056004125370705,
          -0.42056004125370705,
          2.3777817717036513,
          -0.42056004125370705,
          0.8293400255919045,
          0.8293400255919045,
          -1.205778051392485,
          -1.205778051392485,
          -1.205778051392485,
          -1.205778051392485,
          0.8293400255919045,
          -1.205778051392485,
          0.8293400255919045,
          -1.205778051392485,
          -1.205778051392485,
          0.8293400255919045,
          -1.205778051392485,
          0.8293400255919045,
          -1.205778051392485,
          0.8293400255919045,
          -1.205778051392485,
          0.8293400255919045,
          0.8293400255919045,
          0.8293400255919045,
          0.8293400255919045,
          0.8293400255919045,
          0.8293400255919045,
          0.8293400255919045,
          0.8293400255919045,
          -1.205778051392485,
          0.8293400255919045,
          0.8293400255919045,
          0.8293400255919045,
          0.8293400255919045,
          0.8293400255919045,
          -1.205778051392485,
          0.8293400255919045,
          -1.205778051392485,
          -1.205778051392485,
          0.8293400255919045,
          0.8293400255919045,
          0.8293400255919045,
          0.8293400255919045,
          0.8293400255919045,
          -1.205778051392485,
          0.8293400255919045,
          -1.205778051392485,
          0.8293400255919045,
          -1.205778051392485,
          -1.205778051392485,
          -1.205778051392485,
          -1.205778051392485,
          -1.205778051392485,
          0.8293400255919045,
          0.8293400255919045,
          -1.205778051392485,
          -1.205778051392485,
          0.8293400255919045,
          -1.205778051392485,
          -0.3817006212182665,
          -0.3817006212182665,
          -0.3817006212182665,
          -0.3817006212182665,
          -0.3817006212182665,
          -0.3817006212182665,
          -0.3817006212182665,
          -0.3817006212182665,
          -0.3817006212182665,
          -0.3817006212182665,
          -0.3817006212182665,
          -0.3817006212182665,
          2.6198542638162836,
          -0.3817006212182665,
          -0.3817006212182665,
          -0.3817006212182665,
          -0.3817006212182665,
          -0.3817006212182665,
          -0.3817006212182665,
          -0.3817006212182665,
          -0.3817006212182665,
          -0.3817006212182665,
          -0.3817006212182665,
          -0.3817006212182665,
          -0.3817006212182665,
          -0.3817006212182665,
          -0.3817006212182665,
          -0.3817006212182665,
          -0.3817006212182665,
          2.6198542638162836,
          -0.3817006212182665,
          -0.3817006212182665,
          -0.3817006212182665,
          -0.3817006212182665,
          -0.3817006212182665,
          2.6198542638162836,
          -0.3817006212182665,
          -0.3817006212182665,
          -0.3817006212182665,
          -0.3817006212182665,
          2.6198542638162836,
          -0.3817006212182665,
          -0.3817006212182665,
          -0.3817006212182665,
          -0.3817006212182665,
          -0.3817006212182665,
          -0.3817006212182665,
          -0.3817006212182665,
          -0.3817006212182665,
          -0.3817006212182665,
          -0.3817006212182665,
          -0.3817006212182665,
          -0.3817006212182665,
          -0.3817006212182665,
          -0.3817006212182665,
          1.1363937383129237,
          -0.8799766896679562,
          1.1363937383129237,
          -0.8799766896679562,
          -0.8799766896679562,
          1.1363937383129237,
          1.1363937383129237,
          -0.8799766896679562,
          -0.8799766896679562,
          -0.8799766896679562,
          1.1363937383129237,
          1.1363937383129237,
          -0.8799766896679562,
          1.1363937383129237,
          -0.8799766896679562,
          -0.8799766896679562,
          1.1363937383129237,
          -0.8799766896679562,
          -0.8799766896679562,
          1.1363937383129237,
          -0.8799766896679562,
          1.1363937383129237,
          1.1363937383129237,
          1.1363937383129237,
          -0.8799766896679562,
          -0.8799766896679562,
          -0.8799766896679562,
          -0.8799766896679562,
          -0.8799766896679562,
          -0.8799766896679562,
          -0.8799766896679562,
          -0.8799766896679562,
          -0.8799766896679562,
          1.1363937383129237,
          -0.8799766896679562,
          -0.8799766896679562,
          -0.8799766896679562,
          -0.8799766896679562,
          -0.8799766896679562,
          -0.8799766896679562,
          -0.8799766896679562,
          1.1363937383129237,
          1.1363937383129237,
          -0.8799766896679562,
          1.1363937383129237,
          -0.8799766896679562,
          1.1363937383129237,
          1.1363937383129237,
          -0.8799766896679562,
          -0.8799766896679562,
          1.1363937383129237,
          1.1363937383129237,
          -0.8799766896679562,
          -0.8799766896679562,
          1.1363937383129237,
          -0.8696810781343783,
          1.1498467945803525,
          -0.8696810781343783,
          1.1498467945803525,
          1.1498467945803525,
          -0.8696810781343783,
          -0.8696810781343783,
          1.1498467945803525,
          1.1498467945803525,
          1.1498467945803525,
          -0.8696810781343783,
          -0.8696810781343783,
          -0.8696810781343783,
          -0.8696810781343783,
          1.1498467945803525,
          1.1498467945803525,
          -0.8696810781343783,
          1.1498467945803525,
          1.1498467945803525,
          -0.8696810781343783,
          1.1498467945803525,
          -0.8696810781343783,
          -0.8696810781343783,
          -0.8696810781343783,
          1.1498467945803525,
          1.1498467945803525,
          1.1498467945803525,
          1.1498467945803525,
          1.1498467945803525,
          -0.8696810781343783,
          1.1498467945803525,
          1.1498467945803525,
          1.1498467945803525,
          -0.8696810781343783,
          1.1498467945803525,
          -0.8696810781343783,
          1.1498467945803525,
          1.1498467945803525,
          1.1498467945803525,
          1.1498467945803525,
          -0.8696810781343783,
          -0.8696810781343783,
          -0.8696810781343783,
          1.1498467945803525,
          -0.8696810781343783,
          1.1498467945803525,
          -0.8696810781343783,
          -0.8696810781343783,
          1.1498467945803525,
          1.1498467945803525,
          -0.8696810781343783,
          -0.8696810781343783,
          1.1498467945803525,
          1.1498467945803525,
          -0.8696810781343783
         ],
         "yaxis": "y"
        },
        {
         "hovertemplate": "label=0<br>index=%{x}<br>value=%{y}<br>score of <br>first class=%{marker.color}<extra></extra>",
         "legendgroup": "0",
         "marker": {
          "color": [
           0.42857142857142855,
           0.8571428571428571,
           0.5714285714285714,
           0.2857142857142857,
           0.42857142857142855,
           0.42857142857142855,
           0.7142857142857143,
           0.8571428571428571,
           0.7142857142857143,
           0.42857142857142855,
           0.7142857142857143,
           0.42857142857142855,
           0.7142857142857143,
           0.5714285714285714,
           0.5714285714285714,
           0.42857142857142855,
           0.8571428571428571,
           0.5714285714285714,
           0.2857142857142857,
           0.42857142857142855,
           0.42857142857142855,
           0.7142857142857143,
           0.8571428571428571,
           0.7142857142857143,
           0.42857142857142855,
           0.7142857142857143,
           0.42857142857142855,
           0.7142857142857143,
           0.5714285714285714,
           0.5714285714285714,
           0.42857142857142855,
           0.8571428571428571,
           0.5714285714285714,
           0.2857142857142857,
           0.42857142857142855,
           0.42857142857142855,
           0.7142857142857143,
           0.8571428571428571,
           0.7142857142857143,
           0.42857142857142855,
           0.7142857142857143,
           0.42857142857142855,
           0.7142857142857143,
           0.5714285714285714,
           0.5714285714285714,
           0.42857142857142855,
           0.8571428571428571,
           0.5714285714285714,
           0.2857142857142857,
           0.42857142857142855,
           0.42857142857142855,
           0.7142857142857143,
           0.8571428571428571,
           0.7142857142857143,
           0.42857142857142855,
           0.7142857142857143,
           0.42857142857142855,
           0.7142857142857143,
           0.5714285714285714,
           0.5714285714285714,
           0.42857142857142855,
           0.8571428571428571,
           0.5714285714285714,
           0.2857142857142857,
           0.42857142857142855,
           0.42857142857142855,
           0.7142857142857143,
           0.8571428571428571,
           0.7142857142857143,
           0.42857142857142855,
           0.7142857142857143,
           0.42857142857142855,
           0.7142857142857143,
           0.5714285714285714,
           0.5714285714285714,
           0.42857142857142855,
           0.8571428571428571,
           0.5714285714285714,
           0.2857142857142857,
           0.42857142857142855,
           0.42857142857142855,
           0.7142857142857143,
           0.8571428571428571,
           0.7142857142857143,
           0.42857142857142855,
           0.7142857142857143,
           0.42857142857142855,
           0.7142857142857143,
           0.5714285714285714,
           0.5714285714285714,
           0.42857142857142855,
           0.8571428571428571,
           0.5714285714285714,
           0.2857142857142857,
           0.42857142857142855,
           0.42857142857142855,
           0.7142857142857143,
           0.8571428571428571,
           0.7142857142857143,
           0.42857142857142855,
           0.7142857142857143,
           0.42857142857142855,
           0.7142857142857143,
           0.5714285714285714,
           0.5714285714285714,
           0.42857142857142855,
           0.8571428571428571,
           0.5714285714285714,
           0.2857142857142857,
           0.42857142857142855,
           0.42857142857142855,
           0.7142857142857143,
           0.8571428571428571,
           0.7142857142857143,
           0.42857142857142855,
           0.7142857142857143,
           0.42857142857142855,
           0.7142857142857143,
           0.5714285714285714,
           0.5714285714285714
          ],
          "coloraxis": "coloraxis",
          "line": {
           "width": 1
          },
          "size": 7,
          "symbol": "x"
         },
         "mode": "markers",
         "name": "0",
         "orientation": "v",
         "showlegend": true,
         "type": "scatter",
         "x": [
          6,
          10,
          11,
          22,
          30,
          35,
          38,
          39,
          42,
          43,
          57,
          58,
          60,
          65,
          68,
          6,
          10,
          11,
          22,
          30,
          35,
          38,
          39,
          42,
          43,
          57,
          58,
          60,
          65,
          68,
          6,
          10,
          11,
          22,
          30,
          35,
          38,
          39,
          42,
          43,
          57,
          58,
          60,
          65,
          68,
          6,
          10,
          11,
          22,
          30,
          35,
          38,
          39,
          42,
          43,
          57,
          58,
          60,
          65,
          68,
          6,
          10,
          11,
          22,
          30,
          35,
          38,
          39,
          42,
          43,
          57,
          58,
          60,
          65,
          68,
          6,
          10,
          11,
          22,
          30,
          35,
          38,
          39,
          42,
          43,
          57,
          58,
          60,
          65,
          68,
          6,
          10,
          11,
          22,
          30,
          35,
          38,
          39,
          42,
          43,
          57,
          58,
          60,
          65,
          68,
          6,
          10,
          11,
          22,
          30,
          35,
          38,
          39,
          42,
          43,
          57,
          58,
          60,
          65,
          68
         ],
         "xaxis": "x",
         "y": [
          0.5157845830248696,
          0.5157845830248696,
          0.5157845830248696,
          0.5157845830248696,
          0.5157845830248696,
          0.5157845830248696,
          0.5157845830248696,
          0.5157845830248696,
          0.5157845830248696,
          0.5157845830248696,
          0.5157845830248696,
          0.5157845830248696,
          0.5157845830248696,
          0.5157845830248696,
          0.5157845830248696,
          0.9207176908429558,
          0.9207176908429558,
          0.9207176908429558,
          0.9207176908429558,
          -0.9591111114681931,
          -0.9591111114681931,
          0.9207176908429558,
          0.9207176908429558,
          -0.9591111114681931,
          0.9207176908429558,
          0.9207176908429558,
          -0.9591111114681931,
          -0.9591111114681931,
          0.9207176908429558,
          -0.9591111114681931,
          0.8391574987475853,
          -0.8190292206508417,
          -0.15575453289147095,
          -0.8190292206508417,
          -0.15575453289147095,
          0.5075201548678998,
          -0.15575453289147095,
          2.165706874266327,
          1.3366135145671134,
          -0.48739187677115636,
          1.1707948426272705,
          -0.15575453289147095,
          3.160618905905383,
          0.010064139048371735,
          1.502432186506956,
          -0.42056004125370705,
          -0.42056004125370705,
          -0.42056004125370705,
          -0.42056004125370705,
          -0.42056004125370705,
          -0.42056004125370705,
          2.3777817717036513,
          -0.42056004125370705,
          -0.42056004125370705,
          -0.42056004125370705,
          2.3777817717036513,
          -0.42056004125370705,
          -0.42056004125370705,
          -0.42056004125370705,
          -0.42056004125370705,
          0.8293400255919045,
          -1.205778051392485,
          0.8293400255919045,
          0.8293400255919045,
          0.8293400255919045,
          0.8293400255919045,
          0.8293400255919045,
          0.8293400255919045,
          0.8293400255919045,
          0.8293400255919045,
          0.8293400255919045,
          0.8293400255919045,
          0.8293400255919045,
          0.8293400255919045,
          0.8293400255919045,
          -0.3817006212182665,
          -0.3817006212182665,
          -0.3817006212182665,
          -0.3817006212182665,
          -0.3817006212182665,
          -0.3817006212182665,
          -0.3817006212182665,
          2.6198542638162836,
          -0.3817006212182665,
          -0.3817006212182665,
          -0.3817006212182665,
          -0.3817006212182665,
          -0.3817006212182665,
          -0.3817006212182665,
          -0.3817006212182665,
          1.1363937383129237,
          -0.8799766896679562,
          -0.8799766896679562,
          1.1363937383129237,
          -0.8799766896679562,
          -0.8799766896679562,
          1.1363937383129237,
          -0.8799766896679562,
          1.1363937383129237,
          1.1363937383129237,
          -0.8799766896679562,
          -0.8799766896679562,
          -0.8799766896679562,
          -0.8799766896679562,
          1.1363937383129237,
          -0.8696810781343783,
          1.1498467945803525,
          1.1498467945803525,
          -0.8696810781343783,
          1.1498467945803525,
          1.1498467945803525,
          -0.8696810781343783,
          -0.8696810781343783,
          -0.8696810781343783,
          -0.8696810781343783,
          1.1498467945803525,
          1.1498467945803525,
          -0.8696810781343783,
          1.1498467945803525,
          -0.8696810781343783
         ],
         "yaxis": "y"
        }
       ],
       "layout": {
        "coloraxis": {
         "colorbar": {
          "title": {
           "text": "score of <br>first class"
          }
         },
         "colorscale": [
          [
           0,
           "rgb(103,0,31)"
          ],
          [
           0.1,
           "rgb(178,24,43)"
          ],
          [
           0.2,
           "rgb(214,96,77)"
          ],
          [
           0.3,
           "rgb(244,165,130)"
          ],
          [
           0.4,
           "rgb(253,219,199)"
          ],
          [
           0.5,
           "rgb(247,247,247)"
          ],
          [
           0.6,
           "rgb(209,229,240)"
          ],
          [
           0.7,
           "rgb(146,197,222)"
          ],
          [
           0.8,
           "rgb(67,147,195)"
          ],
          [
           0.9,
           "rgb(33,102,172)"
          ],
          [
           1,
           "rgb(5,48,97)"
          ]
         ]
        },
        "legend": {
         "orientation": "h",
         "title": {
          "text": "label"
         },
         "tracegroupgap": 0
        },
        "margin": {
         "t": 60
        },
        "template": {
         "data": {
          "bar": [
           {
            "error_x": {
             "color": "#2a3f5f"
            },
            "error_y": {
             "color": "#2a3f5f"
            },
            "marker": {
             "line": {
              "color": "#E5ECF6",
              "width": 0.5
             }
            },
            "type": "bar"
           }
          ],
          "barpolar": [
           {
            "marker": {
             "line": {
              "color": "#E5ECF6",
              "width": 0.5
             }
            },
            "type": "barpolar"
           }
          ],
          "carpet": [
           {
            "aaxis": {
             "endlinecolor": "#2a3f5f",
             "gridcolor": "white",
             "linecolor": "white",
             "minorgridcolor": "white",
             "startlinecolor": "#2a3f5f"
            },
            "baxis": {
             "endlinecolor": "#2a3f5f",
             "gridcolor": "white",
             "linecolor": "white",
             "minorgridcolor": "white",
             "startlinecolor": "#2a3f5f"
            },
            "type": "carpet"
           }
          ],
          "choropleth": [
           {
            "colorbar": {
             "outlinewidth": 0,
             "ticks": ""
            },
            "type": "choropleth"
           }
          ],
          "contour": [
           {
            "colorbar": {
             "outlinewidth": 0,
             "ticks": ""
            },
            "colorscale": [
             [
              0,
              "#0d0887"
             ],
             [
              0.1111111111111111,
              "#46039f"
             ],
             [
              0.2222222222222222,
              "#7201a8"
             ],
             [
              0.3333333333333333,
              "#9c179e"
             ],
             [
              0.4444444444444444,
              "#bd3786"
             ],
             [
              0.5555555555555556,
              "#d8576b"
             ],
             [
              0.6666666666666666,
              "#ed7953"
             ],
             [
              0.7777777777777778,
              "#fb9f3a"
             ],
             [
              0.8888888888888888,
              "#fdca26"
             ],
             [
              1,
              "#f0f921"
             ]
            ],
            "type": "contour"
           }
          ],
          "contourcarpet": [
           {
            "colorbar": {
             "outlinewidth": 0,
             "ticks": ""
            },
            "type": "contourcarpet"
           }
          ],
          "heatmap": [
           {
            "colorbar": {
             "outlinewidth": 0,
             "ticks": ""
            },
            "colorscale": [
             [
              0,
              "#0d0887"
             ],
             [
              0.1111111111111111,
              "#46039f"
             ],
             [
              0.2222222222222222,
              "#7201a8"
             ],
             [
              0.3333333333333333,
              "#9c179e"
             ],
             [
              0.4444444444444444,
              "#bd3786"
             ],
             [
              0.5555555555555556,
              "#d8576b"
             ],
             [
              0.6666666666666666,
              "#ed7953"
             ],
             [
              0.7777777777777778,
              "#fb9f3a"
             ],
             [
              0.8888888888888888,
              "#fdca26"
             ],
             [
              1,
              "#f0f921"
             ]
            ],
            "type": "heatmap"
           }
          ],
          "heatmapgl": [
           {
            "colorbar": {
             "outlinewidth": 0,
             "ticks": ""
            },
            "colorscale": [
             [
              0,
              "#0d0887"
             ],
             [
              0.1111111111111111,
              "#46039f"
             ],
             [
              0.2222222222222222,
              "#7201a8"
             ],
             [
              0.3333333333333333,
              "#9c179e"
             ],
             [
              0.4444444444444444,
              "#bd3786"
             ],
             [
              0.5555555555555556,
              "#d8576b"
             ],
             [
              0.6666666666666666,
              "#ed7953"
             ],
             [
              0.7777777777777778,
              "#fb9f3a"
             ],
             [
              0.8888888888888888,
              "#fdca26"
             ],
             [
              1,
              "#f0f921"
             ]
            ],
            "type": "heatmapgl"
           }
          ],
          "histogram": [
           {
            "marker": {
             "colorbar": {
              "outlinewidth": 0,
              "ticks": ""
             }
            },
            "type": "histogram"
           }
          ],
          "histogram2d": [
           {
            "colorbar": {
             "outlinewidth": 0,
             "ticks": ""
            },
            "colorscale": [
             [
              0,
              "#0d0887"
             ],
             [
              0.1111111111111111,
              "#46039f"
             ],
             [
              0.2222222222222222,
              "#7201a8"
             ],
             [
              0.3333333333333333,
              "#9c179e"
             ],
             [
              0.4444444444444444,
              "#bd3786"
             ],
             [
              0.5555555555555556,
              "#d8576b"
             ],
             [
              0.6666666666666666,
              "#ed7953"
             ],
             [
              0.7777777777777778,
              "#fb9f3a"
             ],
             [
              0.8888888888888888,
              "#fdca26"
             ],
             [
              1,
              "#f0f921"
             ]
            ],
            "type": "histogram2d"
           }
          ],
          "histogram2dcontour": [
           {
            "colorbar": {
             "outlinewidth": 0,
             "ticks": ""
            },
            "colorscale": [
             [
              0,
              "#0d0887"
             ],
             [
              0.1111111111111111,
              "#46039f"
             ],
             [
              0.2222222222222222,
              "#7201a8"
             ],
             [
              0.3333333333333333,
              "#9c179e"
             ],
             [
              0.4444444444444444,
              "#bd3786"
             ],
             [
              0.5555555555555556,
              "#d8576b"
             ],
             [
              0.6666666666666666,
              "#ed7953"
             ],
             [
              0.7777777777777778,
              "#fb9f3a"
             ],
             [
              0.8888888888888888,
              "#fdca26"
             ],
             [
              1,
              "#f0f921"
             ]
            ],
            "type": "histogram2dcontour"
           }
          ],
          "mesh3d": [
           {
            "colorbar": {
             "outlinewidth": 0,
             "ticks": ""
            },
            "type": "mesh3d"
           }
          ],
          "parcoords": [
           {
            "line": {
             "colorbar": {
              "outlinewidth": 0,
              "ticks": ""
             }
            },
            "type": "parcoords"
           }
          ],
          "pie": [
           {
            "automargin": true,
            "type": "pie"
           }
          ],
          "scatter": [
           {
            "marker": {
             "colorbar": {
              "outlinewidth": 0,
              "ticks": ""
             }
            },
            "type": "scatter"
           }
          ],
          "scatter3d": [
           {
            "line": {
             "colorbar": {
              "outlinewidth": 0,
              "ticks": ""
             }
            },
            "marker": {
             "colorbar": {
              "outlinewidth": 0,
              "ticks": ""
             }
            },
            "type": "scatter3d"
           }
          ],
          "scattercarpet": [
           {
            "marker": {
             "colorbar": {
              "outlinewidth": 0,
              "ticks": ""
             }
            },
            "type": "scattercarpet"
           }
          ],
          "scattergeo": [
           {
            "marker": {
             "colorbar": {
              "outlinewidth": 0,
              "ticks": ""
             }
            },
            "type": "scattergeo"
           }
          ],
          "scattergl": [
           {
            "marker": {
             "colorbar": {
              "outlinewidth": 0,
              "ticks": ""
             }
            },
            "type": "scattergl"
           }
          ],
          "scattermapbox": [
           {
            "marker": {
             "colorbar": {
              "outlinewidth": 0,
              "ticks": ""
             }
            },
            "type": "scattermapbox"
           }
          ],
          "scatterpolar": [
           {
            "marker": {
             "colorbar": {
              "outlinewidth": 0,
              "ticks": ""
             }
            },
            "type": "scatterpolar"
           }
          ],
          "scatterpolargl": [
           {
            "marker": {
             "colorbar": {
              "outlinewidth": 0,
              "ticks": ""
             }
            },
            "type": "scatterpolargl"
           }
          ],
          "scatterternary": [
           {
            "marker": {
             "colorbar": {
              "outlinewidth": 0,
              "ticks": ""
             }
            },
            "type": "scatterternary"
           }
          ],
          "surface": [
           {
            "colorbar": {
             "outlinewidth": 0,
             "ticks": ""
            },
            "colorscale": [
             [
              0,
              "#0d0887"
             ],
             [
              0.1111111111111111,
              "#46039f"
             ],
             [
              0.2222222222222222,
              "#7201a8"
             ],
             [
              0.3333333333333333,
              "#9c179e"
             ],
             [
              0.4444444444444444,
              "#bd3786"
             ],
             [
              0.5555555555555556,
              "#d8576b"
             ],
             [
              0.6666666666666666,
              "#ed7953"
             ],
             [
              0.7777777777777778,
              "#fb9f3a"
             ],
             [
              0.8888888888888888,
              "#fdca26"
             ],
             [
              1,
              "#f0f921"
             ]
            ],
            "type": "surface"
           }
          ],
          "table": [
           {
            "cells": {
             "fill": {
              "color": "#EBF0F8"
             },
             "line": {
              "color": "white"
             }
            },
            "header": {
             "fill": {
              "color": "#C8D4E3"
             },
             "line": {
              "color": "white"
             }
            },
            "type": "table"
           }
          ]
         },
         "layout": {
          "annotationdefaults": {
           "arrowcolor": "#2a3f5f",
           "arrowhead": 0,
           "arrowwidth": 1
          },
          "autotypenumbers": "strict",
          "coloraxis": {
           "colorbar": {
            "outlinewidth": 0,
            "ticks": ""
           }
          },
          "colorscale": {
           "diverging": [
            [
             0,
             "#8e0152"
            ],
            [
             0.1,
             "#c51b7d"
            ],
            [
             0.2,
             "#de77ae"
            ],
            [
             0.3,
             "#f1b6da"
            ],
            [
             0.4,
             "#fde0ef"
            ],
            [
             0.5,
             "#f7f7f7"
            ],
            [
             0.6,
             "#e6f5d0"
            ],
            [
             0.7,
             "#b8e186"
            ],
            [
             0.8,
             "#7fbc41"
            ],
            [
             0.9,
             "#4d9221"
            ],
            [
             1,
             "#276419"
            ]
           ],
           "sequential": [
            [
             0,
             "#0d0887"
            ],
            [
             0.1111111111111111,
             "#46039f"
            ],
            [
             0.2222222222222222,
             "#7201a8"
            ],
            [
             0.3333333333333333,
             "#9c179e"
            ],
            [
             0.4444444444444444,
             "#bd3786"
            ],
            [
             0.5555555555555556,
             "#d8576b"
            ],
            [
             0.6666666666666666,
             "#ed7953"
            ],
            [
             0.7777777777777778,
             "#fb9f3a"
            ],
            [
             0.8888888888888888,
             "#fdca26"
            ],
            [
             1,
             "#f0f921"
            ]
           ],
           "sequentialminus": [
            [
             0,
             "#0d0887"
            ],
            [
             0.1111111111111111,
             "#46039f"
            ],
            [
             0.2222222222222222,
             "#7201a8"
            ],
            [
             0.3333333333333333,
             "#9c179e"
            ],
            [
             0.4444444444444444,
             "#bd3786"
            ],
            [
             0.5555555555555556,
             "#d8576b"
            ],
            [
             0.6666666666666666,
             "#ed7953"
            ],
            [
             0.7777777777777778,
             "#fb9f3a"
            ],
            [
             0.8888888888888888,
             "#fdca26"
            ],
            [
             1,
             "#f0f921"
            ]
           ]
          },
          "colorway": [
           "#636efa",
           "#EF553B",
           "#00cc96",
           "#ab63fa",
           "#FFA15A",
           "#19d3f3",
           "#FF6692",
           "#B6E880",
           "#FF97FF",
           "#FECB52"
          ],
          "font": {
           "color": "#2a3f5f"
          },
          "geo": {
           "bgcolor": "white",
           "lakecolor": "white",
           "landcolor": "#E5ECF6",
           "showlakes": true,
           "showland": true,
           "subunitcolor": "white"
          },
          "hoverlabel": {
           "align": "left"
          },
          "hovermode": "closest",
          "mapbox": {
           "style": "light"
          },
          "paper_bgcolor": "white",
          "plot_bgcolor": "#E5ECF6",
          "polar": {
           "angularaxis": {
            "gridcolor": "white",
            "linecolor": "white",
            "ticks": ""
           },
           "bgcolor": "#E5ECF6",
           "radialaxis": {
            "gridcolor": "white",
            "linecolor": "white",
            "ticks": ""
           }
          },
          "scene": {
           "xaxis": {
            "backgroundcolor": "#E5ECF6",
            "gridcolor": "white",
            "gridwidth": 2,
            "linecolor": "white",
            "showbackground": true,
            "ticks": "",
            "zerolinecolor": "white"
           },
           "yaxis": {
            "backgroundcolor": "#E5ECF6",
            "gridcolor": "white",
            "gridwidth": 2,
            "linecolor": "white",
            "showbackground": true,
            "ticks": "",
            "zerolinecolor": "white"
           },
           "zaxis": {
            "backgroundcolor": "#E5ECF6",
            "gridcolor": "white",
            "gridwidth": 2,
            "linecolor": "white",
            "showbackground": true,
            "ticks": "",
            "zerolinecolor": "white"
           }
          },
          "shapedefaults": {
           "line": {
            "color": "#2a3f5f"
           }
          },
          "ternary": {
           "aaxis": {
            "gridcolor": "white",
            "linecolor": "white",
            "ticks": ""
           },
           "baxis": {
            "gridcolor": "white",
            "linecolor": "white",
            "ticks": ""
           },
           "bgcolor": "#E5ECF6",
           "caxis": {
            "gridcolor": "white",
            "linecolor": "white",
            "ticks": ""
           }
          },
          "title": {
           "x": 0.05
          },
          "xaxis": {
           "automargin": true,
           "gridcolor": "white",
           "linecolor": "white",
           "ticks": "",
           "title": {
            "standoff": 15
           },
           "zerolinecolor": "white",
           "zerolinewidth": 2
          },
          "yaxis": {
           "automargin": true,
           "gridcolor": "white",
           "linecolor": "white",
           "ticks": "",
           "title": {
            "standoff": 15
           },
           "zerolinecolor": "white",
           "zerolinewidth": 2
          }
         }
        },
        "xaxis": {
         "anchor": "y",
         "domain": [
          0,
          1
         ],
         "title": {
          "text": "index"
         }
        },
        "yaxis": {
         "anchor": "x",
         "domain": [
          0,
          1
         ],
         "title": {
          "text": "value"
         }
        }
       }
      },
      "text/html": [
       "<div>                            <div id=\"b0681c13-0883-4565-ad04-ef5deb18afed\" class=\"plotly-graph-div\" style=\"height:525px; width:100%;\"></div>            <script type=\"text/javascript\">                require([\"plotly\"], function(Plotly) {                    window.PLOTLYENV=window.PLOTLYENV || {};                                    if (document.getElementById(\"b0681c13-0883-4565-ad04-ef5deb18afed\")) {                    Plotly.newPlot(                        \"b0681c13-0883-4565-ad04-ef5deb18afed\",                        [{\"hovertemplate\": \"label=1<br>index=%{x}<br>value=%{y}<br>score of <br>first class=%{marker.color}<extra></extra>\", \"legendgroup\": \"1\", \"marker\": {\"color\": [0.5714285714285714, 0.5714285714285714, 1.0, 0.8571428571428571, 1.0, 1.0, 0.14285714285714285, 0.8571428571428571, 0.7142857142857143, 1.0, 1.0, 0.5714285714285714, 1.0, 0.5714285714285714, 1.0, 0.5714285714285714, 1.0, 0.7142857142857143, 0.5714285714285714, 0.7142857142857143, 0.8571428571428571, 0.42857142857142855, 0.2857142857142857, 0.8571428571428571, 0.7142857142857143, 0.8571428571428571, 0.7142857142857143, 0.7142857142857143, 0.8571428571428571, 1.0, 0.5714285714285714, 1.0, 0.42857142857142855, 1.0, 1.0, 0.5714285714285714, 0.5714285714285714, 0.5714285714285714, 0.42857142857142855, 0.5714285714285714, 1.0, 0.7142857142857143, 1.0, 0.5714285714285714, 1.0, 0.7142857142857143, 1.0, 1.0, 0.8571428571428571, 0.42857142857142855, 0.5714285714285714, 1.0, 0.8571428571428571, 0.7142857142857143, 1.0, 0.5714285714285714, 0.5714285714285714, 1.0, 0.8571428571428571, 1.0, 1.0, 0.14285714285714285, 0.8571428571428571, 0.7142857142857143, 1.0, 1.0, 0.5714285714285714, 1.0, 0.5714285714285714, 1.0, 0.5714285714285714, 1.0, 0.7142857142857143, 0.5714285714285714, 0.7142857142857143, 0.8571428571428571, 0.42857142857142855, 0.2857142857142857, 0.8571428571428571, 0.7142857142857143, 0.8571428571428571, 0.7142857142857143, 0.7142857142857143, 0.8571428571428571, 1.0, 0.5714285714285714, 1.0, 0.42857142857142855, 1.0, 1.0, 0.5714285714285714, 0.5714285714285714, 0.5714285714285714, 0.42857142857142855, 0.5714285714285714, 1.0, 0.7142857142857143, 1.0, 0.5714285714285714, 1.0, 0.7142857142857143, 1.0, 1.0, 0.8571428571428571, 0.42857142857142855, 0.5714285714285714, 1.0, 0.8571428571428571, 0.7142857142857143, 1.0, 0.5714285714285714, 0.5714285714285714, 1.0, 0.8571428571428571, 1.0, 1.0, 0.14285714285714285, 0.8571428571428571, 0.7142857142857143, 1.0, 1.0, 0.5714285714285714, 1.0, 0.5714285714285714, 1.0, 0.5714285714285714, 1.0, 0.7142857142857143, 0.5714285714285714, 0.7142857142857143, 0.8571428571428571, 0.42857142857142855, 0.2857142857142857, 0.8571428571428571, 0.7142857142857143, 0.8571428571428571, 0.7142857142857143, 0.7142857142857143, 0.8571428571428571, 1.0, 0.5714285714285714, 1.0, 0.42857142857142855, 1.0, 1.0, 0.5714285714285714, 0.5714285714285714, 0.5714285714285714, 0.42857142857142855, 0.5714285714285714, 1.0, 0.7142857142857143, 1.0, 0.5714285714285714, 1.0, 0.7142857142857143, 1.0, 1.0, 0.8571428571428571, 0.42857142857142855, 0.5714285714285714, 1.0, 0.8571428571428571, 0.7142857142857143, 1.0, 0.5714285714285714, 0.5714285714285714, 1.0, 0.8571428571428571, 1.0, 1.0, 0.14285714285714285, 0.8571428571428571, 0.7142857142857143, 1.0, 1.0, 0.5714285714285714, 1.0, 0.5714285714285714, 1.0, 0.5714285714285714, 1.0, 0.7142857142857143, 0.5714285714285714, 0.7142857142857143, 0.8571428571428571, 0.42857142857142855, 0.2857142857142857, 0.8571428571428571, 0.7142857142857143, 0.8571428571428571, 0.7142857142857143, 0.7142857142857143, 0.8571428571428571, 1.0, 0.5714285714285714, 1.0, 0.42857142857142855, 1.0, 1.0, 0.5714285714285714, 0.5714285714285714, 0.5714285714285714, 0.42857142857142855, 0.5714285714285714, 1.0, 0.7142857142857143, 1.0, 0.5714285714285714, 1.0, 0.7142857142857143, 1.0, 1.0, 0.8571428571428571, 0.42857142857142855, 0.5714285714285714, 1.0, 0.8571428571428571, 0.7142857142857143, 1.0, 0.5714285714285714, 0.5714285714285714, 1.0, 0.8571428571428571, 1.0, 1.0, 0.14285714285714285, 0.8571428571428571, 0.7142857142857143, 1.0, 1.0, 0.5714285714285714, 1.0, 0.5714285714285714, 1.0, 0.5714285714285714, 1.0, 0.7142857142857143, 0.5714285714285714, 0.7142857142857143, 0.8571428571428571, 0.42857142857142855, 0.2857142857142857, 0.8571428571428571, 0.7142857142857143, 0.8571428571428571, 0.7142857142857143, 0.7142857142857143, 0.8571428571428571, 1.0, 0.5714285714285714, 1.0, 0.42857142857142855, 1.0, 1.0, 0.5714285714285714, 0.5714285714285714, 0.5714285714285714, 0.42857142857142855, 0.5714285714285714, 1.0, 0.7142857142857143, 1.0, 0.5714285714285714, 1.0, 0.7142857142857143, 1.0, 1.0, 0.8571428571428571, 0.42857142857142855, 0.5714285714285714, 1.0, 0.8571428571428571, 0.7142857142857143, 1.0, 0.5714285714285714, 0.5714285714285714, 1.0, 0.8571428571428571, 1.0, 1.0, 0.14285714285714285, 0.8571428571428571, 0.7142857142857143, 1.0, 1.0, 0.5714285714285714, 1.0, 0.5714285714285714, 1.0, 0.5714285714285714, 1.0, 0.7142857142857143, 0.5714285714285714, 0.7142857142857143, 0.8571428571428571, 0.42857142857142855, 0.2857142857142857, 0.8571428571428571, 0.7142857142857143, 0.8571428571428571, 0.7142857142857143, 0.7142857142857143, 0.8571428571428571, 1.0, 0.5714285714285714, 1.0, 0.42857142857142855, 1.0, 1.0, 0.5714285714285714, 0.5714285714285714, 0.5714285714285714, 0.42857142857142855, 0.5714285714285714, 1.0, 0.7142857142857143, 1.0, 0.5714285714285714, 1.0, 0.7142857142857143, 1.0, 1.0, 0.8571428571428571, 0.42857142857142855, 0.5714285714285714, 1.0, 0.8571428571428571, 0.7142857142857143, 1.0, 0.5714285714285714, 0.5714285714285714, 1.0, 0.8571428571428571, 1.0, 1.0, 0.14285714285714285, 0.8571428571428571, 0.7142857142857143, 1.0, 1.0, 0.5714285714285714, 1.0, 0.5714285714285714, 1.0, 0.5714285714285714, 1.0, 0.7142857142857143, 0.5714285714285714, 0.7142857142857143, 0.8571428571428571, 0.42857142857142855, 0.2857142857142857, 0.8571428571428571, 0.7142857142857143, 0.8571428571428571, 0.7142857142857143, 0.7142857142857143, 0.8571428571428571, 1.0, 0.5714285714285714, 1.0, 0.42857142857142855, 1.0, 1.0, 0.5714285714285714, 0.5714285714285714, 0.5714285714285714, 0.42857142857142855, 0.5714285714285714, 1.0, 0.7142857142857143, 1.0, 0.5714285714285714, 1.0, 0.7142857142857143, 1.0, 1.0, 0.8571428571428571, 0.42857142857142855, 0.5714285714285714, 1.0, 0.8571428571428571, 0.7142857142857143, 1.0, 0.5714285714285714, 0.5714285714285714, 1.0, 0.8571428571428571, 1.0, 1.0, 0.14285714285714285, 0.8571428571428571, 0.7142857142857143, 1.0, 1.0, 0.5714285714285714, 1.0, 0.5714285714285714, 1.0, 0.5714285714285714, 1.0, 0.7142857142857143, 0.5714285714285714, 0.7142857142857143, 0.8571428571428571, 0.42857142857142855, 0.2857142857142857, 0.8571428571428571, 0.7142857142857143, 0.8571428571428571, 0.7142857142857143, 0.7142857142857143, 0.8571428571428571, 1.0, 0.5714285714285714, 1.0, 0.42857142857142855, 1.0, 1.0, 0.5714285714285714, 0.5714285714285714, 0.5714285714285714, 0.42857142857142855, 0.5714285714285714, 1.0, 0.7142857142857143, 1.0, 0.5714285714285714, 1.0, 0.7142857142857143, 1.0, 1.0, 0.8571428571428571, 0.42857142857142855, 0.5714285714285714, 1.0, 0.8571428571428571, 0.7142857142857143, 1.0], \"coloraxis\": \"coloraxis\", \"line\": {\"width\": 1}, \"size\": 7, \"symbol\": \"square\"}, \"mode\": \"markers\", \"name\": \"1\", \"orientation\": \"v\", \"showlegend\": true, \"type\": \"scatter\", \"x\": [0, 1, 2, 3, 4, 5, 7, 8, 9, 12, 13, 14, 15, 16, 17, 18, 19, 20, 21, 23, 24, 25, 26, 27, 28, 29, 31, 32, 33, 34, 36, 37, 40, 41, 44, 45, 46, 47, 48, 49, 50, 51, 52, 53, 54, 55, 56, 59, 61, 62, 63, 64, 66, 67, 69, 0, 1, 2, 3, 4, 5, 7, 8, 9, 12, 13, 14, 15, 16, 17, 18, 19, 20, 21, 23, 24, 25, 26, 27, 28, 29, 31, 32, 33, 34, 36, 37, 40, 41, 44, 45, 46, 47, 48, 49, 50, 51, 52, 53, 54, 55, 56, 59, 61, 62, 63, 64, 66, 67, 69, 0, 1, 2, 3, 4, 5, 7, 8, 9, 12, 13, 14, 15, 16, 17, 18, 19, 20, 21, 23, 24, 25, 26, 27, 28, 29, 31, 32, 33, 34, 36, 37, 40, 41, 44, 45, 46, 47, 48, 49, 50, 51, 52, 53, 54, 55, 56, 59, 61, 62, 63, 64, 66, 67, 69, 0, 1, 2, 3, 4, 5, 7, 8, 9, 12, 13, 14, 15, 16, 17, 18, 19, 20, 21, 23, 24, 25, 26, 27, 28, 29, 31, 32, 33, 34, 36, 37, 40, 41, 44, 45, 46, 47, 48, 49, 50, 51, 52, 53, 54, 55, 56, 59, 61, 62, 63, 64, 66, 67, 69, 0, 1, 2, 3, 4, 5, 7, 8, 9, 12, 13, 14, 15, 16, 17, 18, 19, 20, 21, 23, 24, 25, 26, 27, 28, 29, 31, 32, 33, 34, 36, 37, 40, 41, 44, 45, 46, 47, 48, 49, 50, 51, 52, 53, 54, 55, 56, 59, 61, 62, 63, 64, 66, 67, 69, 0, 1, 2, 3, 4, 5, 7, 8, 9, 12, 13, 14, 15, 16, 17, 18, 19, 20, 21, 23, 24, 25, 26, 27, 28, 29, 31, 32, 33, 34, 36, 37, 40, 41, 44, 45, 46, 47, 48, 49, 50, 51, 52, 53, 54, 55, 56, 59, 61, 62, 63, 64, 66, 67, 69, 0, 1, 2, 3, 4, 5, 7, 8, 9, 12, 13, 14, 15, 16, 17, 18, 19, 20, 21, 23, 24, 25, 26, 27, 28, 29, 31, 32, 33, 34, 36, 37, 40, 41, 44, 45, 46, 47, 48, 49, 50, 51, 52, 53, 54, 55, 56, 59, 61, 62, 63, 64, 66, 67, 69, 0, 1, 2, 3, 4, 5, 7, 8, 9, 12, 13, 14, 15, 16, 17, 18, 19, 20, 21, 23, 24, 25, 26, 27, 28, 29, 31, 32, 33, 34, 36, 37, 40, 41, 44, 45, 46, 47, 48, 49, 50, 51, 52, 53, 54, 55, 56, 59, 61, 62, 63, 64, 66, 67, 69], \"xaxis\": \"x\", \"y\": [0.5157845830248696, -1.314589424427487, 0.5157845830248696, 0.5157845830248696, 0.5157845830248696, 0.5157845830248696, 0.5157845830248696, 0.5157845830248696, 0.5157845830248696, -4.060150435606022, 0.5157845830248696, 0.5157845830248696, 0.5157845830248696, 0.5157845830248696, 0.5157845830248696, 0.5157845830248696, 0.5157845830248696, 0.5157845830248696, 0.5157845830248696, 0.5157845830248696, -0.3994024207013087, 0.5157845830248696, 0.5157845830248696, -1.314589424427487, 0.5157845830248696, 0.5157845830248696, 0.5157845830248696, -1.314589424427487, 0.5157845830248696, -1.314589424427487, 0.5157845830248696, 0.5157845830248696, 0.5157845830248696, 0.5157845830248696, 0.5157845830248696, 0.5157845830248696, 0.5157845830248696, 0.5157845830248696, 0.5157845830248696, 0.5157845830248696, 0.5157845830248696, 0.5157845830248696, -1.314589424427487, 0.5157845830248696, -4.060150435606022, -1.314589424427487, 0.5157845830248696, 0.5157845830248696, 0.5157845830248696, 0.5157845830248696, 0.5157845830248696, 0.5157845830248696, 0.5157845830248696, 0.5157845830248696, 0.5157845830248696, 0.9207176908429558, -0.9591111114681931, -0.9591111114681931, 0.9207176908429558, 0.9207176908429558, -0.9591111114681931, 0.9207176908429558, 0.9207176908429558, -0.9591111114681931, -0.9591111114681931, 0.9207176908429558, -0.9591111114681931, -1.9616864727008059, 0.9207176908429558, -0.9591111114681931, 0.9207176908429558, 0.9207176908429558, 0.9207176908429558, 0.9207176908429558, 0.9207176908429558, -1.9616864727008059, 0.9207176908429558, 0.9207176908429558, -0.9591111114681931, 0.9207176908429558, -0.9591111114681931, 0.9207176908429558, -0.9591111114681931, 0.9207176908429558, -0.9591111114681931, 0.9207176908429558, -1.9616864727008059, 0.9207176908429558, 0.9207176908429558, -0.9591111114681931, 0.9207176908429558, -0.9591111114681931, 0.9207176908429558, -0.9591111114681931, -1.9616864727008059, 0.9207176908429558, -1.9616864727008059, -0.9591111114681931, 0.9207176908429558, -1.9616864727008059, -0.9591111114681931, 0.9207176908429558, 0.9207176908429558, 0.9207176908429558, -0.9591111114681931, 0.9207176908429558, 0.9207176908429558, 0.9207176908429558, -0.9591111114681931, 0.9207176908429558, -0.15575453289147095, -0.15575453289147095, 0.010064139048371735, -1.1506665645305272, 0.5075201548678998, -0.653210548710999, 1.502432186506956, -1.1506665645305272, -1.8139412522898979, -1.3164852364703699, -0.653210548710999, 2.3315255462061697, -0.8190292206508417, -1.4823039084102125, -0.15575453289147095, -0.48739187677115636, 1.0049761706874278, 0.34170148292805713, 0.010064139048371735, -1.1506665645305272, -0.8190292206508417, -0.48739187677115636, -0.653210548710999, 2.4973442181460124, -0.653210548710999, 1.0049761706874278, -0.8190292206508417, -0.8190292206508417, 0.6733388268077425, 0.6733388268077425, -0.48739187677115636, 0.010064139048371735, -0.8190292206508417, 0.8391574987475853, -0.3215732048313137, -0.48739187677115636, -0.3215732048313137, -0.15575453289147095, 0.6733388268077425, -0.3215732048313137, 0.34170148292805713, -0.653210548710999, -0.8190292206508417, 0.34170148292805713, -1.4823039084102125, 3.3264375778452258, 1.3366135145671134, -0.15575453289147095, -0.3215732048313137, 0.5075201548678998, -1.6481225803500552, 0.6733388268077425, -0.3215732048313137, 0.17588281098821443, 0.6733388268077425, -0.42056004125370705, -0.42056004125370705, -0.42056004125370705, -0.42056004125370705, -0.42056004125370705, -0.42056004125370705, -0.42056004125370705, -0.42056004125370705, -0.42056004125370705, 2.3777817717036513, -0.42056004125370705, -0.42056004125370705, 2.3777817717036513, -0.42056004125370705, -0.42056004125370705, -0.42056004125370705, -0.42056004125370705, 2.3777817717036513, -0.42056004125370705, 2.3777817717036513, 2.3777817717036513, -0.42056004125370705, -0.42056004125370705, 2.3777817717036513, -0.42056004125370705, 2.3777817717036513, 2.3777817717036513, -0.42056004125370705, -0.42056004125370705, 2.3777817717036513, -0.42056004125370705, -0.42056004125370705, -0.42056004125370705, -0.42056004125370705, -0.42056004125370705, -0.42056004125370705, -0.42056004125370705, -0.42056004125370705, -0.42056004125370705, -0.42056004125370705, 2.3777817717036513, -0.42056004125370705, -0.42056004125370705, -0.42056004125370705, -0.42056004125370705, -0.42056004125370705, -0.42056004125370705, -0.42056004125370705, -0.42056004125370705, -0.42056004125370705, -0.42056004125370705, -0.42056004125370705, -0.42056004125370705, 2.3777817717036513, -0.42056004125370705, 0.8293400255919045, 0.8293400255919045, -1.205778051392485, -1.205778051392485, -1.205778051392485, -1.205778051392485, 0.8293400255919045, -1.205778051392485, 0.8293400255919045, -1.205778051392485, -1.205778051392485, 0.8293400255919045, -1.205778051392485, 0.8293400255919045, -1.205778051392485, 0.8293400255919045, -1.205778051392485, 0.8293400255919045, 0.8293400255919045, 0.8293400255919045, 0.8293400255919045, 0.8293400255919045, 0.8293400255919045, 0.8293400255919045, 0.8293400255919045, -1.205778051392485, 0.8293400255919045, 0.8293400255919045, 0.8293400255919045, 0.8293400255919045, 0.8293400255919045, -1.205778051392485, 0.8293400255919045, -1.205778051392485, -1.205778051392485, 0.8293400255919045, 0.8293400255919045, 0.8293400255919045, 0.8293400255919045, 0.8293400255919045, -1.205778051392485, 0.8293400255919045, -1.205778051392485, 0.8293400255919045, -1.205778051392485, -1.205778051392485, -1.205778051392485, -1.205778051392485, -1.205778051392485, 0.8293400255919045, 0.8293400255919045, -1.205778051392485, -1.205778051392485, 0.8293400255919045, -1.205778051392485, -0.3817006212182665, -0.3817006212182665, -0.3817006212182665, -0.3817006212182665, -0.3817006212182665, -0.3817006212182665, -0.3817006212182665, -0.3817006212182665, -0.3817006212182665, -0.3817006212182665, -0.3817006212182665, -0.3817006212182665, 2.6198542638162836, -0.3817006212182665, -0.3817006212182665, -0.3817006212182665, -0.3817006212182665, -0.3817006212182665, -0.3817006212182665, -0.3817006212182665, -0.3817006212182665, -0.3817006212182665, -0.3817006212182665, -0.3817006212182665, -0.3817006212182665, -0.3817006212182665, -0.3817006212182665, -0.3817006212182665, -0.3817006212182665, 2.6198542638162836, -0.3817006212182665, -0.3817006212182665, -0.3817006212182665, -0.3817006212182665, -0.3817006212182665, 2.6198542638162836, -0.3817006212182665, -0.3817006212182665, -0.3817006212182665, -0.3817006212182665, 2.6198542638162836, -0.3817006212182665, -0.3817006212182665, -0.3817006212182665, -0.3817006212182665, -0.3817006212182665, -0.3817006212182665, -0.3817006212182665, -0.3817006212182665, -0.3817006212182665, -0.3817006212182665, -0.3817006212182665, -0.3817006212182665, -0.3817006212182665, -0.3817006212182665, 1.1363937383129237, -0.8799766896679562, 1.1363937383129237, -0.8799766896679562, -0.8799766896679562, 1.1363937383129237, 1.1363937383129237, -0.8799766896679562, -0.8799766896679562, -0.8799766896679562, 1.1363937383129237, 1.1363937383129237, -0.8799766896679562, 1.1363937383129237, -0.8799766896679562, -0.8799766896679562, 1.1363937383129237, -0.8799766896679562, -0.8799766896679562, 1.1363937383129237, -0.8799766896679562, 1.1363937383129237, 1.1363937383129237, 1.1363937383129237, -0.8799766896679562, -0.8799766896679562, -0.8799766896679562, -0.8799766896679562, -0.8799766896679562, -0.8799766896679562, -0.8799766896679562, -0.8799766896679562, -0.8799766896679562, 1.1363937383129237, -0.8799766896679562, -0.8799766896679562, -0.8799766896679562, -0.8799766896679562, -0.8799766896679562, -0.8799766896679562, -0.8799766896679562, 1.1363937383129237, 1.1363937383129237, -0.8799766896679562, 1.1363937383129237, -0.8799766896679562, 1.1363937383129237, 1.1363937383129237, -0.8799766896679562, -0.8799766896679562, 1.1363937383129237, 1.1363937383129237, -0.8799766896679562, -0.8799766896679562, 1.1363937383129237, -0.8696810781343783, 1.1498467945803525, -0.8696810781343783, 1.1498467945803525, 1.1498467945803525, -0.8696810781343783, -0.8696810781343783, 1.1498467945803525, 1.1498467945803525, 1.1498467945803525, -0.8696810781343783, -0.8696810781343783, -0.8696810781343783, -0.8696810781343783, 1.1498467945803525, 1.1498467945803525, -0.8696810781343783, 1.1498467945803525, 1.1498467945803525, -0.8696810781343783, 1.1498467945803525, -0.8696810781343783, -0.8696810781343783, -0.8696810781343783, 1.1498467945803525, 1.1498467945803525, 1.1498467945803525, 1.1498467945803525, 1.1498467945803525, -0.8696810781343783, 1.1498467945803525, 1.1498467945803525, 1.1498467945803525, -0.8696810781343783, 1.1498467945803525, -0.8696810781343783, 1.1498467945803525, 1.1498467945803525, 1.1498467945803525, 1.1498467945803525, -0.8696810781343783, -0.8696810781343783, -0.8696810781343783, 1.1498467945803525, -0.8696810781343783, 1.1498467945803525, -0.8696810781343783, -0.8696810781343783, 1.1498467945803525, 1.1498467945803525, -0.8696810781343783, -0.8696810781343783, 1.1498467945803525, 1.1498467945803525, -0.8696810781343783], \"yaxis\": \"y\"}, {\"hovertemplate\": \"label=0<br>index=%{x}<br>value=%{y}<br>score of <br>first class=%{marker.color}<extra></extra>\", \"legendgroup\": \"0\", \"marker\": {\"color\": [0.42857142857142855, 0.8571428571428571, 0.5714285714285714, 0.2857142857142857, 0.42857142857142855, 0.42857142857142855, 0.7142857142857143, 0.8571428571428571, 0.7142857142857143, 0.42857142857142855, 0.7142857142857143, 0.42857142857142855, 0.7142857142857143, 0.5714285714285714, 0.5714285714285714, 0.42857142857142855, 0.8571428571428571, 0.5714285714285714, 0.2857142857142857, 0.42857142857142855, 0.42857142857142855, 0.7142857142857143, 0.8571428571428571, 0.7142857142857143, 0.42857142857142855, 0.7142857142857143, 0.42857142857142855, 0.7142857142857143, 0.5714285714285714, 0.5714285714285714, 0.42857142857142855, 0.8571428571428571, 0.5714285714285714, 0.2857142857142857, 0.42857142857142855, 0.42857142857142855, 0.7142857142857143, 0.8571428571428571, 0.7142857142857143, 0.42857142857142855, 0.7142857142857143, 0.42857142857142855, 0.7142857142857143, 0.5714285714285714, 0.5714285714285714, 0.42857142857142855, 0.8571428571428571, 0.5714285714285714, 0.2857142857142857, 0.42857142857142855, 0.42857142857142855, 0.7142857142857143, 0.8571428571428571, 0.7142857142857143, 0.42857142857142855, 0.7142857142857143, 0.42857142857142855, 0.7142857142857143, 0.5714285714285714, 0.5714285714285714, 0.42857142857142855, 0.8571428571428571, 0.5714285714285714, 0.2857142857142857, 0.42857142857142855, 0.42857142857142855, 0.7142857142857143, 0.8571428571428571, 0.7142857142857143, 0.42857142857142855, 0.7142857142857143, 0.42857142857142855, 0.7142857142857143, 0.5714285714285714, 0.5714285714285714, 0.42857142857142855, 0.8571428571428571, 0.5714285714285714, 0.2857142857142857, 0.42857142857142855, 0.42857142857142855, 0.7142857142857143, 0.8571428571428571, 0.7142857142857143, 0.42857142857142855, 0.7142857142857143, 0.42857142857142855, 0.7142857142857143, 0.5714285714285714, 0.5714285714285714, 0.42857142857142855, 0.8571428571428571, 0.5714285714285714, 0.2857142857142857, 0.42857142857142855, 0.42857142857142855, 0.7142857142857143, 0.8571428571428571, 0.7142857142857143, 0.42857142857142855, 0.7142857142857143, 0.42857142857142855, 0.7142857142857143, 0.5714285714285714, 0.5714285714285714, 0.42857142857142855, 0.8571428571428571, 0.5714285714285714, 0.2857142857142857, 0.42857142857142855, 0.42857142857142855, 0.7142857142857143, 0.8571428571428571, 0.7142857142857143, 0.42857142857142855, 0.7142857142857143, 0.42857142857142855, 0.7142857142857143, 0.5714285714285714, 0.5714285714285714], \"coloraxis\": \"coloraxis\", \"line\": {\"width\": 1}, \"size\": 7, \"symbol\": \"x\"}, \"mode\": \"markers\", \"name\": \"0\", \"orientation\": \"v\", \"showlegend\": true, \"type\": \"scatter\", \"x\": [6, 10, 11, 22, 30, 35, 38, 39, 42, 43, 57, 58, 60, 65, 68, 6, 10, 11, 22, 30, 35, 38, 39, 42, 43, 57, 58, 60, 65, 68, 6, 10, 11, 22, 30, 35, 38, 39, 42, 43, 57, 58, 60, 65, 68, 6, 10, 11, 22, 30, 35, 38, 39, 42, 43, 57, 58, 60, 65, 68, 6, 10, 11, 22, 30, 35, 38, 39, 42, 43, 57, 58, 60, 65, 68, 6, 10, 11, 22, 30, 35, 38, 39, 42, 43, 57, 58, 60, 65, 68, 6, 10, 11, 22, 30, 35, 38, 39, 42, 43, 57, 58, 60, 65, 68, 6, 10, 11, 22, 30, 35, 38, 39, 42, 43, 57, 58, 60, 65, 68], \"xaxis\": \"x\", \"y\": [0.5157845830248696, 0.5157845830248696, 0.5157845830248696, 0.5157845830248696, 0.5157845830248696, 0.5157845830248696, 0.5157845830248696, 0.5157845830248696, 0.5157845830248696, 0.5157845830248696, 0.5157845830248696, 0.5157845830248696, 0.5157845830248696, 0.5157845830248696, 0.5157845830248696, 0.9207176908429558, 0.9207176908429558, 0.9207176908429558, 0.9207176908429558, -0.9591111114681931, -0.9591111114681931, 0.9207176908429558, 0.9207176908429558, -0.9591111114681931, 0.9207176908429558, 0.9207176908429558, -0.9591111114681931, -0.9591111114681931, 0.9207176908429558, -0.9591111114681931, 0.8391574987475853, -0.8190292206508417, -0.15575453289147095, -0.8190292206508417, -0.15575453289147095, 0.5075201548678998, -0.15575453289147095, 2.165706874266327, 1.3366135145671134, -0.48739187677115636, 1.1707948426272705, -0.15575453289147095, 3.160618905905383, 0.010064139048371735, 1.502432186506956, -0.42056004125370705, -0.42056004125370705, -0.42056004125370705, -0.42056004125370705, -0.42056004125370705, -0.42056004125370705, 2.3777817717036513, -0.42056004125370705, -0.42056004125370705, -0.42056004125370705, 2.3777817717036513, -0.42056004125370705, -0.42056004125370705, -0.42056004125370705, -0.42056004125370705, 0.8293400255919045, -1.205778051392485, 0.8293400255919045, 0.8293400255919045, 0.8293400255919045, 0.8293400255919045, 0.8293400255919045, 0.8293400255919045, 0.8293400255919045, 0.8293400255919045, 0.8293400255919045, 0.8293400255919045, 0.8293400255919045, 0.8293400255919045, 0.8293400255919045, -0.3817006212182665, -0.3817006212182665, -0.3817006212182665, -0.3817006212182665, -0.3817006212182665, -0.3817006212182665, -0.3817006212182665, 2.6198542638162836, -0.3817006212182665, -0.3817006212182665, -0.3817006212182665, -0.3817006212182665, -0.3817006212182665, -0.3817006212182665, -0.3817006212182665, 1.1363937383129237, -0.8799766896679562, -0.8799766896679562, 1.1363937383129237, -0.8799766896679562, -0.8799766896679562, 1.1363937383129237, -0.8799766896679562, 1.1363937383129237, 1.1363937383129237, -0.8799766896679562, -0.8799766896679562, -0.8799766896679562, -0.8799766896679562, 1.1363937383129237, -0.8696810781343783, 1.1498467945803525, 1.1498467945803525, -0.8696810781343783, 1.1498467945803525, 1.1498467945803525, -0.8696810781343783, -0.8696810781343783, -0.8696810781343783, -0.8696810781343783, 1.1498467945803525, 1.1498467945803525, -0.8696810781343783, 1.1498467945803525, -0.8696810781343783], \"yaxis\": \"y\"}],                        {\"coloraxis\": {\"colorbar\": {\"title\": {\"text\": \"score of <br>first class\"}}, \"colorscale\": [[0.0, \"rgb(103,0,31)\"], [0.1, \"rgb(178,24,43)\"], [0.2, \"rgb(214,96,77)\"], [0.3, \"rgb(244,165,130)\"], [0.4, \"rgb(253,219,199)\"], [0.5, \"rgb(247,247,247)\"], [0.6, \"rgb(209,229,240)\"], [0.7, \"rgb(146,197,222)\"], [0.8, \"rgb(67,147,195)\"], [0.9, \"rgb(33,102,172)\"], [1.0, \"rgb(5,48,97)\"]]}, \"legend\": {\"orientation\": \"h\", \"title\": {\"text\": \"label\"}, \"tracegroupgap\": 0}, \"margin\": {\"t\": 60}, \"template\": {\"data\": {\"bar\": [{\"error_x\": {\"color\": \"#2a3f5f\"}, \"error_y\": {\"color\": \"#2a3f5f\"}, \"marker\": {\"line\": {\"color\": \"#E5ECF6\", \"width\": 0.5}}, \"type\": \"bar\"}], \"barpolar\": [{\"marker\": {\"line\": {\"color\": \"#E5ECF6\", \"width\": 0.5}}, \"type\": \"barpolar\"}], \"carpet\": [{\"aaxis\": {\"endlinecolor\": \"#2a3f5f\", \"gridcolor\": \"white\", \"linecolor\": \"white\", \"minorgridcolor\": \"white\", \"startlinecolor\": \"#2a3f5f\"}, \"baxis\": {\"endlinecolor\": \"#2a3f5f\", \"gridcolor\": \"white\", \"linecolor\": \"white\", \"minorgridcolor\": \"white\", \"startlinecolor\": \"#2a3f5f\"}, \"type\": \"carpet\"}], \"choropleth\": [{\"colorbar\": {\"outlinewidth\": 0, \"ticks\": \"\"}, \"type\": \"choropleth\"}], \"contour\": [{\"colorbar\": {\"outlinewidth\": 0, \"ticks\": \"\"}, \"colorscale\": [[0.0, \"#0d0887\"], [0.1111111111111111, \"#46039f\"], [0.2222222222222222, \"#7201a8\"], [0.3333333333333333, \"#9c179e\"], [0.4444444444444444, \"#bd3786\"], [0.5555555555555556, \"#d8576b\"], [0.6666666666666666, \"#ed7953\"], [0.7777777777777778, \"#fb9f3a\"], [0.8888888888888888, \"#fdca26\"], [1.0, \"#f0f921\"]], \"type\": \"contour\"}], \"contourcarpet\": [{\"colorbar\": {\"outlinewidth\": 0, \"ticks\": \"\"}, \"type\": \"contourcarpet\"}], \"heatmap\": [{\"colorbar\": {\"outlinewidth\": 0, \"ticks\": \"\"}, \"colorscale\": [[0.0, \"#0d0887\"], [0.1111111111111111, \"#46039f\"], [0.2222222222222222, \"#7201a8\"], [0.3333333333333333, \"#9c179e\"], [0.4444444444444444, \"#bd3786\"], [0.5555555555555556, \"#d8576b\"], [0.6666666666666666, \"#ed7953\"], [0.7777777777777778, \"#fb9f3a\"], [0.8888888888888888, \"#fdca26\"], [1.0, \"#f0f921\"]], \"type\": \"heatmap\"}], \"heatmapgl\": [{\"colorbar\": {\"outlinewidth\": 0, \"ticks\": \"\"}, \"colorscale\": [[0.0, \"#0d0887\"], [0.1111111111111111, \"#46039f\"], [0.2222222222222222, \"#7201a8\"], [0.3333333333333333, \"#9c179e\"], [0.4444444444444444, \"#bd3786\"], [0.5555555555555556, \"#d8576b\"], [0.6666666666666666, \"#ed7953\"], [0.7777777777777778, \"#fb9f3a\"], [0.8888888888888888, \"#fdca26\"], [1.0, \"#f0f921\"]], \"type\": \"heatmapgl\"}], \"histogram\": [{\"marker\": {\"colorbar\": {\"outlinewidth\": 0, \"ticks\": \"\"}}, \"type\": \"histogram\"}], \"histogram2d\": [{\"colorbar\": {\"outlinewidth\": 0, \"ticks\": \"\"}, \"colorscale\": [[0.0, \"#0d0887\"], [0.1111111111111111, \"#46039f\"], [0.2222222222222222, \"#7201a8\"], [0.3333333333333333, \"#9c179e\"], [0.4444444444444444, \"#bd3786\"], [0.5555555555555556, \"#d8576b\"], [0.6666666666666666, \"#ed7953\"], [0.7777777777777778, \"#fb9f3a\"], [0.8888888888888888, \"#fdca26\"], [1.0, \"#f0f921\"]], \"type\": \"histogram2d\"}], \"histogram2dcontour\": [{\"colorbar\": {\"outlinewidth\": 0, \"ticks\": \"\"}, \"colorscale\": [[0.0, \"#0d0887\"], [0.1111111111111111, \"#46039f\"], [0.2222222222222222, \"#7201a8\"], [0.3333333333333333, \"#9c179e\"], [0.4444444444444444, \"#bd3786\"], [0.5555555555555556, \"#d8576b\"], [0.6666666666666666, \"#ed7953\"], [0.7777777777777778, \"#fb9f3a\"], [0.8888888888888888, \"#fdca26\"], [1.0, \"#f0f921\"]], \"type\": \"histogram2dcontour\"}], \"mesh3d\": [{\"colorbar\": {\"outlinewidth\": 0, \"ticks\": \"\"}, \"type\": \"mesh3d\"}], \"parcoords\": [{\"line\": {\"colorbar\": {\"outlinewidth\": 0, \"ticks\": \"\"}}, \"type\": \"parcoords\"}], \"pie\": [{\"automargin\": true, \"type\": \"pie\"}], \"scatter\": [{\"marker\": {\"colorbar\": {\"outlinewidth\": 0, \"ticks\": \"\"}}, \"type\": \"scatter\"}], \"scatter3d\": [{\"line\": {\"colorbar\": {\"outlinewidth\": 0, \"ticks\": \"\"}}, \"marker\": {\"colorbar\": {\"outlinewidth\": 0, \"ticks\": \"\"}}, \"type\": \"scatter3d\"}], \"scattercarpet\": [{\"marker\": {\"colorbar\": {\"outlinewidth\": 0, \"ticks\": \"\"}}, \"type\": \"scattercarpet\"}], \"scattergeo\": [{\"marker\": {\"colorbar\": {\"outlinewidth\": 0, \"ticks\": \"\"}}, \"type\": \"scattergeo\"}], \"scattergl\": [{\"marker\": {\"colorbar\": {\"outlinewidth\": 0, \"ticks\": \"\"}}, \"type\": \"scattergl\"}], \"scattermapbox\": [{\"marker\": {\"colorbar\": {\"outlinewidth\": 0, \"ticks\": \"\"}}, \"type\": \"scattermapbox\"}], \"scatterpolar\": [{\"marker\": {\"colorbar\": {\"outlinewidth\": 0, \"ticks\": \"\"}}, \"type\": \"scatterpolar\"}], \"scatterpolargl\": [{\"marker\": {\"colorbar\": {\"outlinewidth\": 0, \"ticks\": \"\"}}, \"type\": \"scatterpolargl\"}], \"scatterternary\": [{\"marker\": {\"colorbar\": {\"outlinewidth\": 0, \"ticks\": \"\"}}, \"type\": \"scatterternary\"}], \"surface\": [{\"colorbar\": {\"outlinewidth\": 0, \"ticks\": \"\"}, \"colorscale\": [[0.0, \"#0d0887\"], [0.1111111111111111, \"#46039f\"], [0.2222222222222222, \"#7201a8\"], [0.3333333333333333, \"#9c179e\"], [0.4444444444444444, \"#bd3786\"], [0.5555555555555556, \"#d8576b\"], [0.6666666666666666, \"#ed7953\"], [0.7777777777777778, \"#fb9f3a\"], [0.8888888888888888, \"#fdca26\"], [1.0, \"#f0f921\"]], \"type\": \"surface\"}], \"table\": [{\"cells\": {\"fill\": {\"color\": \"#EBF0F8\"}, \"line\": {\"color\": \"white\"}}, \"header\": {\"fill\": {\"color\": \"#C8D4E3\"}, \"line\": {\"color\": \"white\"}}, \"type\": \"table\"}]}, \"layout\": {\"annotationdefaults\": {\"arrowcolor\": \"#2a3f5f\", \"arrowhead\": 0, \"arrowwidth\": 1}, \"autotypenumbers\": \"strict\", \"coloraxis\": {\"colorbar\": {\"outlinewidth\": 0, \"ticks\": \"\"}}, \"colorscale\": {\"diverging\": [[0, \"#8e0152\"], [0.1, \"#c51b7d\"], [0.2, \"#de77ae\"], [0.3, \"#f1b6da\"], [0.4, \"#fde0ef\"], [0.5, \"#f7f7f7\"], [0.6, \"#e6f5d0\"], [0.7, \"#b8e186\"], [0.8, \"#7fbc41\"], [0.9, \"#4d9221\"], [1, \"#276419\"]], \"sequential\": [[0.0, \"#0d0887\"], [0.1111111111111111, \"#46039f\"], [0.2222222222222222, \"#7201a8\"], [0.3333333333333333, \"#9c179e\"], [0.4444444444444444, \"#bd3786\"], [0.5555555555555556, \"#d8576b\"], [0.6666666666666666, \"#ed7953\"], [0.7777777777777778, \"#fb9f3a\"], [0.8888888888888888, \"#fdca26\"], [1.0, \"#f0f921\"]], \"sequentialminus\": [[0.0, \"#0d0887\"], [0.1111111111111111, \"#46039f\"], [0.2222222222222222, \"#7201a8\"], [0.3333333333333333, \"#9c179e\"], [0.4444444444444444, \"#bd3786\"], [0.5555555555555556, \"#d8576b\"], [0.6666666666666666, \"#ed7953\"], [0.7777777777777778, \"#fb9f3a\"], [0.8888888888888888, \"#fdca26\"], [1.0, \"#f0f921\"]]}, \"colorway\": [\"#636efa\", \"#EF553B\", \"#00cc96\", \"#ab63fa\", \"#FFA15A\", \"#19d3f3\", \"#FF6692\", \"#B6E880\", \"#FF97FF\", \"#FECB52\"], \"font\": {\"color\": \"#2a3f5f\"}, \"geo\": {\"bgcolor\": \"white\", \"lakecolor\": \"white\", \"landcolor\": \"#E5ECF6\", \"showlakes\": true, \"showland\": true, \"subunitcolor\": \"white\"}, \"hoverlabel\": {\"align\": \"left\"}, \"hovermode\": \"closest\", \"mapbox\": {\"style\": \"light\"}, \"paper_bgcolor\": \"white\", \"plot_bgcolor\": \"#E5ECF6\", \"polar\": {\"angularaxis\": {\"gridcolor\": \"white\", \"linecolor\": \"white\", \"ticks\": \"\"}, \"bgcolor\": \"#E5ECF6\", \"radialaxis\": {\"gridcolor\": \"white\", \"linecolor\": \"white\", \"ticks\": \"\"}}, \"scene\": {\"xaxis\": {\"backgroundcolor\": \"#E5ECF6\", \"gridcolor\": \"white\", \"gridwidth\": 2, \"linecolor\": \"white\", \"showbackground\": true, \"ticks\": \"\", \"zerolinecolor\": \"white\"}, \"yaxis\": {\"backgroundcolor\": \"#E5ECF6\", \"gridcolor\": \"white\", \"gridwidth\": 2, \"linecolor\": \"white\", \"showbackground\": true, \"ticks\": \"\", \"zerolinecolor\": \"white\"}, \"zaxis\": {\"backgroundcolor\": \"#E5ECF6\", \"gridcolor\": \"white\", \"gridwidth\": 2, \"linecolor\": \"white\", \"showbackground\": true, \"ticks\": \"\", \"zerolinecolor\": \"white\"}}, \"shapedefaults\": {\"line\": {\"color\": \"#2a3f5f\"}}, \"ternary\": {\"aaxis\": {\"gridcolor\": \"white\", \"linecolor\": \"white\", \"ticks\": \"\"}, \"baxis\": {\"gridcolor\": \"white\", \"linecolor\": \"white\", \"ticks\": \"\"}, \"bgcolor\": \"#E5ECF6\", \"caxis\": {\"gridcolor\": \"white\", \"linecolor\": \"white\", \"ticks\": \"\"}}, \"title\": {\"x\": 0.05}, \"xaxis\": {\"automargin\": true, \"gridcolor\": \"white\", \"linecolor\": \"white\", \"ticks\": \"\", \"title\": {\"standoff\": 15}, \"zerolinecolor\": \"white\", \"zerolinewidth\": 2}, \"yaxis\": {\"automargin\": true, \"gridcolor\": \"white\", \"linecolor\": \"white\", \"ticks\": \"\", \"title\": {\"standoff\": 15}, \"zerolinecolor\": \"white\", \"zerolinewidth\": 2}}}, \"xaxis\": {\"anchor\": \"y\", \"domain\": [0.0, 1.0], \"title\": {\"text\": \"index\"}}, \"yaxis\": {\"anchor\": \"x\", \"domain\": [0.0, 1.0], \"title\": {\"text\": \"value\"}}},                        {\"responsive\": true}                    ).then(function(){\n",
       "                            \n",
       "var gd = document.getElementById('b0681c13-0883-4565-ad04-ef5deb18afed');\n",
       "var x = new MutationObserver(function (mutations, observer) {{\n",
       "        var display = window.getComputedStyle(gd).display;\n",
       "        if (!display || display === 'none') {{\n",
       "            console.log([gd, 'removed!']);\n",
       "            Plotly.purge(gd);\n",
       "            observer.disconnect();\n",
       "        }}\n",
       "}});\n",
       "\n",
       "// Listen for the removal of the full notebook cells\n",
       "var notebookContainer = gd.closest('#notebook-container');\n",
       "if (notebookContainer) {{\n",
       "    x.observe(notebookContainer, {childList: true});\n",
       "}}\n",
       "\n",
       "// Listen for the clearing of the current output cell\n",
       "var outputEl = gd.closest('.output');\n",
       "if (outputEl) {{\n",
       "    x.observe(outputEl, {childList: true});\n",
       "}}\n",
       "\n",
       "                        })                };                });            </script>        </div>"
      ]
     },
     "metadata": {},
     "output_type": "display_data"
    }
   ],
   "source": [
    "import plotly.express as px\n",
    "fig = px.scatter(X_test,\n",
    "    color=y_score, color_continuous_scale='RdBu',\n",
    "    symbol=y_test, symbol_map={'0': 'square-dot', '1': 'circle-dot'},\n",
    "    labels={'symbol': 'label', 'color': 'score of <br>first class'}\n",
    "    )\n",
    "fig.update_traces(marker_size=7, marker_line_width=1)\n",
    "fig.update_layout(legend_orientation='h')\n",
    "fig.show()"
   ]
  },
  {
   "cell_type": "markdown",
   "id": "graphic-plasma",
   "metadata": {},
   "source": [
    "## Decision Tree"
   ]
  },
  {
   "cell_type": "code",
   "execution_count": 395,
   "id": "complimentary-meeting",
   "metadata": {},
   "outputs": [],
   "source": [
    "from sklearn.tree import DecisionTreeClassifier as dtc "
   ]
  },
  {
   "cell_type": "code",
   "execution_count": 396,
   "id": "enclosed-indian",
   "metadata": {},
   "outputs": [
    {
     "name": "stdout",
     "output_type": "stream",
     "text": [
      "[1 1 1 1 1]\n",
      "[1 1 1 1 1]\n"
     ]
    }
   ],
   "source": [
    "tree = dtc(criterion='entropy')\n",
    "tree.fit(X_train,y_train)\n",
    "predtree = tree.predict(X_test)\n",
    "print(predtree[:5])\n",
    "print(y_test[:5])"
   ]
  },
  {
   "cell_type": "code",
   "execution_count": 397,
   "id": "institutional-cemetery",
   "metadata": {},
   "outputs": [
    {
     "name": "stdout",
     "output_type": "stream",
     "text": [
      "DecisionTrees's Accuracy:  0.7\n"
     ]
    }
   ],
   "source": [
    "from sklearn import metrics\n",
    "print(\"DecisionTrees's Accuracy: \", metrics.accuracy_score(y_test, predtree))"
   ]
  },
  {
   "cell_type": "markdown",
   "id": "bottom-advisory",
   "metadata": {},
   "source": [
    "## SVM"
   ]
  },
  {
   "cell_type": "code",
   "execution_count": 398,
   "id": "formed-founder",
   "metadata": {},
   "outputs": [
    {
     "data": {
      "text/plain": [
       "array([1, 1, 1, 1, 1], dtype=int64)"
      ]
     },
     "execution_count": 398,
     "metadata": {},
     "output_type": "execute_result"
    }
   ],
   "source": [
    "from sklearn import svm\n",
    "clf1 = svm.SVC(kernel='poly')\n",
    "clf1.fit(X_train, y_train)\n",
    "yhat = clf1.predict(X_test)\n",
    "yhat [0:5]"
   ]
  },
  {
   "cell_type": "markdown",
   "id": "governmental-concord",
   "metadata": {},
   "source": [
    "# Logistic Regression"
   ]
  },
  {
   "cell_type": "code",
   "execution_count": 399,
   "id": "developing-demonstration",
   "metadata": {},
   "outputs": [
    {
     "data": {
      "text/plain": [
       "LogisticRegression(C=0.01, solver='saga')"
      ]
     },
     "execution_count": 399,
     "metadata": {},
     "output_type": "execute_result"
    }
   ],
   "source": [
    "from sklearn.linear_model import LogisticRegression\n",
    "from sklearn.metrics import confusion_matrix\n",
    "LR = LogisticRegression(C=0.01, solver='saga').fit(X_train,y_train)\n",
    "LR"
   ]
  },
  {
   "cell_type": "code",
   "execution_count": 400,
   "id": "indie-processor",
   "metadata": {},
   "outputs": [
    {
     "data": {
      "text/plain": [
       "array([1, 1, 1, 1, 1, 1, 1, 1, 1, 1, 1, 1, 1, 1, 1, 1, 1, 1, 1, 1, 1, 1,\n",
       "       1, 1, 1, 1, 1, 1, 1, 1, 1, 1, 1, 1, 1, 1, 1, 1, 1, 1, 1, 1, 1, 1,\n",
       "       1, 1, 1, 1, 1, 1, 1, 1, 1, 1, 1, 1, 1, 1, 1, 1, 1, 1, 1, 1, 1, 1,\n",
       "       1, 1, 1, 1], dtype=int64)"
      ]
     },
     "execution_count": 400,
     "metadata": {},
     "output_type": "execute_result"
    }
   ],
   "source": [
    "yhatLR = LR.predict(X_test)\n",
    "yhatLR"
   ]
  },
  {
   "cell_type": "code",
   "execution_count": 401,
   "id": "artistic-president",
   "metadata": {},
   "outputs": [
    {
     "data": {
      "text/plain": [
       "array([[0.3468497 , 0.6531503 ],\n",
       "       [0.29470949, 0.70529051],\n",
       "       [0.17787895, 0.82212105],\n",
       "       [0.20143578, 0.79856422],\n",
       "       [0.18315034, 0.81684966],\n",
       "       [0.18487475, 0.81512525],\n",
       "       [0.33101511, 0.66898489],\n",
       "       [0.32066474, 0.67933526],\n",
       "       [0.20143578, 0.79856422],\n",
       "       [0.33057357, 0.66942643],\n",
       "       [0.19767248, 0.80232752],\n",
       "       [0.33344015, 0.66655985],\n",
       "       [0.13571737, 0.86428263],\n",
       "       [0.20539098, 0.79460902],\n",
       "       [0.28082996, 0.71917004],\n",
       "       [0.14086465, 0.85913535],\n",
       "       [0.36849624, 0.63150376],\n",
       "       [0.17097188, 0.82902812],\n",
       "       [0.33869706, 0.66130294],\n",
       "       [0.18683051, 0.81316949],\n",
       "       [0.27688263, 0.72311737],\n",
       "       [0.33082704, 0.66917296],\n",
       "       [0.35760036, 0.64239964],\n",
       "       [0.31126661, 0.68873339],\n",
       "       [0.24925709, 0.75074291],\n",
       "       [0.35220632, 0.64779368],\n",
       "       [0.35489873, 0.64510127],\n",
       "       [0.22560018, 0.77439982],\n",
       "       [0.34134062, 0.65865938],\n",
       "       [0.13088147, 0.86911853],\n",
       "       [0.30504348, 0.69495652],\n",
       "       [0.29369282, 0.70630718],\n",
       "       [0.30459772, 0.69540228],\n",
       "       [0.32047974, 0.67952026],\n",
       "       [0.24263398, 0.75736602],\n",
       "       [0.29514692, 0.70485308],\n",
       "       [0.33869706, 0.66130294],\n",
       "       [0.15972749, 0.84027251],\n",
       "       [0.2963195 , 0.7036805 ],\n",
       "       [0.30313962, 0.69686038],\n",
       "       [0.34399408, 0.65600592],\n",
       "       [0.18862683, 0.81137317],\n",
       "       [0.29532365, 0.70467635],\n",
       "       [0.35220632, 0.64779368],\n",
       "       [0.17264811, 0.82735189],\n",
       "       [0.34436391, 0.65563609],\n",
       "       [0.30754653, 0.69245347],\n",
       "       [0.33344015, 0.66655985],\n",
       "       [0.29270213, 0.70729787],\n",
       "       [0.29290091, 0.70709909],\n",
       "       [0.15575758, 0.84424242],\n",
       "       [0.31044814, 0.68955186],\n",
       "       [0.17929846, 0.82070154],\n",
       "       [0.32563214, 0.67436786],\n",
       "       [0.16554365, 0.83445635],\n",
       "       [0.13292207, 0.86707793],\n",
       "       [0.18327745, 0.81672255],\n",
       "       [0.26524575, 0.73475425],\n",
       "       [0.30504348, 0.69495652],\n",
       "       [0.19968317, 0.80031683],\n",
       "       [0.26219969, 0.73780031],\n",
       "       [0.19212731, 0.80787269],\n",
       "       [0.29514692, 0.70485308],\n",
       "       [0.37124182, 0.62875818],\n",
       "       [0.19043638, 0.80956362],\n",
       "       [0.33082704, 0.66917296],\n",
       "       [0.19212731, 0.80787269],\n",
       "       [0.25370932, 0.74629068],\n",
       "       [0.29287801, 0.70712199],\n",
       "       [0.19043638, 0.80956362]])"
      ]
     },
     "execution_count": 401,
     "metadata": {},
     "output_type": "execute_result"
    }
   ],
   "source": [
    "yhatLR_prob = LR.predict_proba(X_test)\n",
    "yhatLR_prob"
   ]
  },
  {
   "cell_type": "markdown",
   "id": "pharmaceutical-briefs",
   "metadata": {},
   "source": [
    "# Model Evaluation using Test set"
   ]
  },
  {
   "cell_type": "code",
   "execution_count": 402,
   "id": "hungry-geography",
   "metadata": {},
   "outputs": [],
   "source": [
    "from sklearn.metrics import jaccard_score\n",
    "from sklearn.metrics import f1_score\n",
    "from sklearn.metrics import log_loss"
   ]
  },
  {
   "cell_type": "markdown",
   "id": "mobile-savannah",
   "metadata": {},
   "source": [
    "## For KNN"
   ]
  },
  {
   "cell_type": "code",
   "execution_count": 403,
   "id": "architectural-poker",
   "metadata": {},
   "outputs": [
    {
     "data": {
      "text/plain": [
       "0.765625"
      ]
     },
     "execution_count": 403,
     "metadata": {},
     "output_type": "execute_result"
    }
   ],
   "source": [
    "jaccard_score(y_test, y_pred)"
   ]
  },
  {
   "cell_type": "code",
   "execution_count": 404,
   "id": "center-thumb",
   "metadata": {},
   "outputs": [
    {
     "data": {
      "text/plain": [
       "0.8672566371681416"
      ]
     },
     "execution_count": 404,
     "metadata": {},
     "output_type": "execute_result"
    }
   ],
   "source": [
    "f1_score(y_test, y_pred)"
   ]
  },
  {
   "cell_type": "markdown",
   "id": "binary-geometry",
   "metadata": {},
   "source": [
    "## For Decision Tree"
   ]
  },
  {
   "cell_type": "code",
   "execution_count": 405,
   "id": "fitted-consultation",
   "metadata": {},
   "outputs": [
    {
     "data": {
      "text/plain": [
       "0.6666666666666666"
      ]
     },
     "execution_count": 405,
     "metadata": {},
     "output_type": "execute_result"
    }
   ],
   "source": [
    "jaccard_score(y_test, predtree,pos_label=1)"
   ]
  },
  {
   "cell_type": "code",
   "execution_count": 406,
   "id": "overall-disney",
   "metadata": {},
   "outputs": [
    {
     "data": {
      "text/plain": [
       "0.8000000000000002"
      ]
     },
     "execution_count": 406,
     "metadata": {},
     "output_type": "execute_result"
    }
   ],
   "source": [
    "f1_score(y_test, predtree)"
   ]
  },
  {
   "cell_type": "markdown",
   "id": "isolated-image",
   "metadata": {},
   "source": [
    "## For SVM"
   ]
  },
  {
   "cell_type": "code",
   "execution_count": 407,
   "id": "valued-august",
   "metadata": {},
   "outputs": [
    {
     "data": {
      "text/plain": [
       "0.7681159420289855"
      ]
     },
     "execution_count": 407,
     "metadata": {},
     "output_type": "execute_result"
    }
   ],
   "source": [
    "jaccard_score(y_test, yhat,pos_label=1)"
   ]
  },
  {
   "cell_type": "code",
   "execution_count": 408,
   "id": "fitting-growth",
   "metadata": {},
   "outputs": [
    {
     "data": {
      "text/plain": [
       "0.8688524590163933"
      ]
     },
     "execution_count": 408,
     "metadata": {},
     "output_type": "execute_result"
    }
   ],
   "source": [
    "f1_score(y_test, yhat)"
   ]
  },
  {
   "cell_type": "markdown",
   "id": "retired-standard",
   "metadata": {},
   "source": [
    "## For Logistic Regression"
   ]
  },
  {
   "cell_type": "code",
   "execution_count": 409,
   "id": "quarterly-liberia",
   "metadata": {},
   "outputs": [
    {
     "data": {
      "text/plain": [
       "0.7857142857142857"
      ]
     },
     "execution_count": 409,
     "metadata": {},
     "output_type": "execute_result"
    }
   ],
   "source": [
    "jaccard_score(y_test, yhatLR)"
   ]
  },
  {
   "cell_type": "code",
   "execution_count": 410,
   "id": "framed-barcelona",
   "metadata": {},
   "outputs": [
    {
     "data": {
      "text/plain": [
       "0.88"
      ]
     },
     "execution_count": 410,
     "metadata": {},
     "output_type": "execute_result"
    }
   ],
   "source": [
    "f1_score(y_test, yhatLR)"
   ]
  },
  {
   "cell_type": "code",
   "execution_count": 411,
   "id": "pursuant-amsterdam",
   "metadata": {},
   "outputs": [
    {
     "data": {
      "text/plain": [
       "0.4920176349432059"
      ]
     },
     "execution_count": 411,
     "metadata": {},
     "output_type": "execute_result"
    }
   ],
   "source": [
    "from sklearn.metrics import log_loss\n",
    "log_loss(y_test, yhatLR_prob)\n"
   ]
  },
  {
   "cell_type": "markdown",
   "id": "yellow-specialist",
   "metadata": {},
   "source": [
    "# Load Test set for evaluation"
   ]
  },
  {
   "cell_type": "code",
   "execution_count": 412,
   "id": "technological-victor",
   "metadata": {},
   "outputs": [
    {
     "data": {
      "text/html": [
       "<div>\n",
       "<style scoped>\n",
       "    .dataframe tbody tr th:only-of-type {\n",
       "        vertical-align: middle;\n",
       "    }\n",
       "\n",
       "    .dataframe tbody tr th {\n",
       "        vertical-align: top;\n",
       "    }\n",
       "\n",
       "    .dataframe thead th {\n",
       "        text-align: right;\n",
       "    }\n",
       "</style>\n",
       "<table border=\"1\" class=\"dataframe\">\n",
       "  <thead>\n",
       "    <tr style=\"text-align: right;\">\n",
       "      <th></th>\n",
       "      <th>Unnamed: 0</th>\n",
       "      <th>Unnamed: 0.1</th>\n",
       "      <th>loan_status</th>\n",
       "      <th>Principal</th>\n",
       "      <th>terms</th>\n",
       "      <th>effective_date</th>\n",
       "      <th>due_date</th>\n",
       "      <th>age</th>\n",
       "      <th>education</th>\n",
       "      <th>Gender</th>\n",
       "    </tr>\n",
       "  </thead>\n",
       "  <tbody>\n",
       "    <tr>\n",
       "      <th>0</th>\n",
       "      <td>1</td>\n",
       "      <td>1</td>\n",
       "      <td>PAIDOFF</td>\n",
       "      <td>1000</td>\n",
       "      <td>30</td>\n",
       "      <td>9/8/2016</td>\n",
       "      <td>10/7/2016</td>\n",
       "      <td>50</td>\n",
       "      <td>Bechalor</td>\n",
       "      <td>female</td>\n",
       "    </tr>\n",
       "    <tr>\n",
       "      <th>1</th>\n",
       "      <td>5</td>\n",
       "      <td>5</td>\n",
       "      <td>PAIDOFF</td>\n",
       "      <td>300</td>\n",
       "      <td>7</td>\n",
       "      <td>9/9/2016</td>\n",
       "      <td>9/15/2016</td>\n",
       "      <td>35</td>\n",
       "      <td>Master or Above</td>\n",
       "      <td>male</td>\n",
       "    </tr>\n",
       "    <tr>\n",
       "      <th>2</th>\n",
       "      <td>21</td>\n",
       "      <td>21</td>\n",
       "      <td>PAIDOFF</td>\n",
       "      <td>1000</td>\n",
       "      <td>30</td>\n",
       "      <td>9/10/2016</td>\n",
       "      <td>10/9/2016</td>\n",
       "      <td>43</td>\n",
       "      <td>High School or Below</td>\n",
       "      <td>female</td>\n",
       "    </tr>\n",
       "    <tr>\n",
       "      <th>3</th>\n",
       "      <td>24</td>\n",
       "      <td>24</td>\n",
       "      <td>PAIDOFF</td>\n",
       "      <td>1000</td>\n",
       "      <td>30</td>\n",
       "      <td>9/10/2016</td>\n",
       "      <td>10/9/2016</td>\n",
       "      <td>26</td>\n",
       "      <td>college</td>\n",
       "      <td>male</td>\n",
       "    </tr>\n",
       "    <tr>\n",
       "      <th>4</th>\n",
       "      <td>35</td>\n",
       "      <td>35</td>\n",
       "      <td>PAIDOFF</td>\n",
       "      <td>800</td>\n",
       "      <td>15</td>\n",
       "      <td>9/11/2016</td>\n",
       "      <td>9/25/2016</td>\n",
       "      <td>29</td>\n",
       "      <td>Bechalor</td>\n",
       "      <td>male</td>\n",
       "    </tr>\n",
       "  </tbody>\n",
       "</table>\n",
       "</div>"
      ],
      "text/plain": [
       "   Unnamed: 0  Unnamed: 0.1 loan_status  Principal  terms effective_date  \\\n",
       "0           1             1     PAIDOFF       1000     30       9/8/2016   \n",
       "1           5             5     PAIDOFF        300      7       9/9/2016   \n",
       "2          21            21     PAIDOFF       1000     30      9/10/2016   \n",
       "3          24            24     PAIDOFF       1000     30      9/10/2016   \n",
       "4          35            35     PAIDOFF        800     15      9/11/2016   \n",
       "\n",
       "    due_date  age             education  Gender  \n",
       "0  10/7/2016   50              Bechalor  female  \n",
       "1  9/15/2016   35       Master or Above    male  \n",
       "2  10/9/2016   43  High School or Below  female  \n",
       "3  10/9/2016   26               college    male  \n",
       "4  9/25/2016   29              Bechalor    male  "
      ]
     },
     "execution_count": 412,
     "metadata": {},
     "output_type": "execute_result"
    }
   ],
   "source": [
    "test_df = pd.read_csv('loan_test.csv')\n",
    "test_df.head()"
   ]
  },
  {
   "cell_type": "code",
   "execution_count": 413,
   "id": "spanish-liabilities",
   "metadata": {},
   "outputs": [
    {
     "data": {
      "text/plain": [
       "(54, 10)"
      ]
     },
     "execution_count": 413,
     "metadata": {},
     "output_type": "execute_result"
    }
   ],
   "source": [
    "test_df.shape"
   ]
  },
  {
   "cell_type": "code",
   "execution_count": 414,
   "id": "associate-maria",
   "metadata": {},
   "outputs": [
    {
     "data": {
      "text/html": [
       "<div>\n",
       "<style scoped>\n",
       "    .dataframe tbody tr th:only-of-type {\n",
       "        vertical-align: middle;\n",
       "    }\n",
       "\n",
       "    .dataframe tbody tr th {\n",
       "        vertical-align: top;\n",
       "    }\n",
       "\n",
       "    .dataframe thead th {\n",
       "        text-align: right;\n",
       "    }\n",
       "</style>\n",
       "<table border=\"1\" class=\"dataframe\">\n",
       "  <thead>\n",
       "    <tr style=\"text-align: right;\">\n",
       "      <th></th>\n",
       "      <th>Unnamed: 0</th>\n",
       "      <th>Unnamed: 0.1</th>\n",
       "      <th>loan_status</th>\n",
       "      <th>Principal</th>\n",
       "      <th>terms</th>\n",
       "      <th>effective_date</th>\n",
       "      <th>due_date</th>\n",
       "      <th>age</th>\n",
       "      <th>education</th>\n",
       "      <th>Gender</th>\n",
       "    </tr>\n",
       "  </thead>\n",
       "  <tbody>\n",
       "    <tr>\n",
       "      <th>0</th>\n",
       "      <td>1</td>\n",
       "      <td>1</td>\n",
       "      <td>PAIDOFF</td>\n",
       "      <td>1000</td>\n",
       "      <td>30</td>\n",
       "      <td>2016-09-08</td>\n",
       "      <td>2016-10-07</td>\n",
       "      <td>50</td>\n",
       "      <td>Bechalor</td>\n",
       "      <td>female</td>\n",
       "    </tr>\n",
       "    <tr>\n",
       "      <th>1</th>\n",
       "      <td>5</td>\n",
       "      <td>5</td>\n",
       "      <td>PAIDOFF</td>\n",
       "      <td>300</td>\n",
       "      <td>7</td>\n",
       "      <td>2016-09-09</td>\n",
       "      <td>2016-09-15</td>\n",
       "      <td>35</td>\n",
       "      <td>Master or Above</td>\n",
       "      <td>male</td>\n",
       "    </tr>\n",
       "    <tr>\n",
       "      <th>2</th>\n",
       "      <td>21</td>\n",
       "      <td>21</td>\n",
       "      <td>PAIDOFF</td>\n",
       "      <td>1000</td>\n",
       "      <td>30</td>\n",
       "      <td>2016-09-10</td>\n",
       "      <td>2016-10-09</td>\n",
       "      <td>43</td>\n",
       "      <td>High School or Below</td>\n",
       "      <td>female</td>\n",
       "    </tr>\n",
       "    <tr>\n",
       "      <th>3</th>\n",
       "      <td>24</td>\n",
       "      <td>24</td>\n",
       "      <td>PAIDOFF</td>\n",
       "      <td>1000</td>\n",
       "      <td>30</td>\n",
       "      <td>2016-09-10</td>\n",
       "      <td>2016-10-09</td>\n",
       "      <td>26</td>\n",
       "      <td>college</td>\n",
       "      <td>male</td>\n",
       "    </tr>\n",
       "    <tr>\n",
       "      <th>4</th>\n",
       "      <td>35</td>\n",
       "      <td>35</td>\n",
       "      <td>PAIDOFF</td>\n",
       "      <td>800</td>\n",
       "      <td>15</td>\n",
       "      <td>2016-09-11</td>\n",
       "      <td>2016-09-25</td>\n",
       "      <td>29</td>\n",
       "      <td>Bechalor</td>\n",
       "      <td>male</td>\n",
       "    </tr>\n",
       "  </tbody>\n",
       "</table>\n",
       "</div>"
      ],
      "text/plain": [
       "   Unnamed: 0  Unnamed: 0.1 loan_status  Principal  terms effective_date  \\\n",
       "0           1             1     PAIDOFF       1000     30     2016-09-08   \n",
       "1           5             5     PAIDOFF        300      7     2016-09-09   \n",
       "2          21            21     PAIDOFF       1000     30     2016-09-10   \n",
       "3          24            24     PAIDOFF       1000     30     2016-09-10   \n",
       "4          35            35     PAIDOFF        800     15     2016-09-11   \n",
       "\n",
       "    due_date  age             education  Gender  \n",
       "0 2016-10-07   50              Bechalor  female  \n",
       "1 2016-09-15   35       Master or Above    male  \n",
       "2 2016-10-09   43  High School or Below  female  \n",
       "3 2016-10-09   26               college    male  \n",
       "4 2016-09-25   29              Bechalor    male  "
      ]
     },
     "execution_count": 414,
     "metadata": {},
     "output_type": "execute_result"
    }
   ],
   "source": [
    "test_df['due_date'] = pd.to_datetime(test_df['due_date'])\n",
    "test_df['effective_date'] = pd.to_datetime(test_df['effective_date'])\n",
    "test_df.head()"
   ]
  },
  {
   "cell_type": "code",
   "execution_count": 415,
   "id": "substantial-emergency",
   "metadata": {},
   "outputs": [
    {
     "data": {
      "text/html": [
       "<div>\n",
       "<style scoped>\n",
       "    .dataframe tbody tr th:only-of-type {\n",
       "        vertical-align: middle;\n",
       "    }\n",
       "\n",
       "    .dataframe tbody tr th {\n",
       "        vertical-align: top;\n",
       "    }\n",
       "\n",
       "    .dataframe thead th {\n",
       "        text-align: right;\n",
       "    }\n",
       "</style>\n",
       "<table border=\"1\" class=\"dataframe\">\n",
       "  <thead>\n",
       "    <tr style=\"text-align: right;\">\n",
       "      <th></th>\n",
       "      <th>Unnamed: 0</th>\n",
       "      <th>Unnamed: 0.1</th>\n",
       "      <th>loan_status</th>\n",
       "      <th>Principal</th>\n",
       "      <th>terms</th>\n",
       "      <th>effective_date</th>\n",
       "      <th>due_date</th>\n",
       "      <th>age</th>\n",
       "      <th>education</th>\n",
       "      <th>Gender</th>\n",
       "      <th>dayofweek</th>\n",
       "      <th>weekend</th>\n",
       "    </tr>\n",
       "  </thead>\n",
       "  <tbody>\n",
       "    <tr>\n",
       "      <th>0</th>\n",
       "      <td>1</td>\n",
       "      <td>1</td>\n",
       "      <td>PAIDOFF</td>\n",
       "      <td>1000</td>\n",
       "      <td>30</td>\n",
       "      <td>2016-09-08</td>\n",
       "      <td>2016-10-07</td>\n",
       "      <td>50</td>\n",
       "      <td>Bechalor</td>\n",
       "      <td>female</td>\n",
       "      <td>3</td>\n",
       "      <td>0</td>\n",
       "    </tr>\n",
       "    <tr>\n",
       "      <th>1</th>\n",
       "      <td>5</td>\n",
       "      <td>5</td>\n",
       "      <td>PAIDOFF</td>\n",
       "      <td>300</td>\n",
       "      <td>7</td>\n",
       "      <td>2016-09-09</td>\n",
       "      <td>2016-09-15</td>\n",
       "      <td>35</td>\n",
       "      <td>Master or Above</td>\n",
       "      <td>male</td>\n",
       "      <td>4</td>\n",
       "      <td>1</td>\n",
       "    </tr>\n",
       "    <tr>\n",
       "      <th>2</th>\n",
       "      <td>21</td>\n",
       "      <td>21</td>\n",
       "      <td>PAIDOFF</td>\n",
       "      <td>1000</td>\n",
       "      <td>30</td>\n",
       "      <td>2016-09-10</td>\n",
       "      <td>2016-10-09</td>\n",
       "      <td>43</td>\n",
       "      <td>High School or Below</td>\n",
       "      <td>female</td>\n",
       "      <td>5</td>\n",
       "      <td>1</td>\n",
       "    </tr>\n",
       "    <tr>\n",
       "      <th>3</th>\n",
       "      <td>24</td>\n",
       "      <td>24</td>\n",
       "      <td>PAIDOFF</td>\n",
       "      <td>1000</td>\n",
       "      <td>30</td>\n",
       "      <td>2016-09-10</td>\n",
       "      <td>2016-10-09</td>\n",
       "      <td>26</td>\n",
       "      <td>college</td>\n",
       "      <td>male</td>\n",
       "      <td>5</td>\n",
       "      <td>1</td>\n",
       "    </tr>\n",
       "    <tr>\n",
       "      <th>4</th>\n",
       "      <td>35</td>\n",
       "      <td>35</td>\n",
       "      <td>PAIDOFF</td>\n",
       "      <td>800</td>\n",
       "      <td>15</td>\n",
       "      <td>2016-09-11</td>\n",
       "      <td>2016-09-25</td>\n",
       "      <td>29</td>\n",
       "      <td>Bechalor</td>\n",
       "      <td>male</td>\n",
       "      <td>6</td>\n",
       "      <td>1</td>\n",
       "    </tr>\n",
       "  </tbody>\n",
       "</table>\n",
       "</div>"
      ],
      "text/plain": [
       "   Unnamed: 0  Unnamed: 0.1 loan_status  Principal  terms effective_date  \\\n",
       "0           1             1     PAIDOFF       1000     30     2016-09-08   \n",
       "1           5             5     PAIDOFF        300      7     2016-09-09   \n",
       "2          21            21     PAIDOFF       1000     30     2016-09-10   \n",
       "3          24            24     PAIDOFF       1000     30     2016-09-10   \n",
       "4          35            35     PAIDOFF        800     15     2016-09-11   \n",
       "\n",
       "    due_date  age             education  Gender  dayofweek  weekend  \n",
       "0 2016-10-07   50              Bechalor  female          3        0  \n",
       "1 2016-09-15   35       Master or Above    male          4        1  \n",
       "2 2016-10-09   43  High School or Below  female          5        1  \n",
       "3 2016-10-09   26               college    male          5        1  \n",
       "4 2016-09-25   29              Bechalor    male          6        1  "
      ]
     },
     "execution_count": 415,
     "metadata": {},
     "output_type": "execute_result"
    }
   ],
   "source": [
    "test_df['dayofweek'] = test_df['effective_date'].dt.dayofweek\n",
    "test_df['weekend'] = test_df['dayofweek'].apply(lambda x: 1 if (x>3)  else 0)\n",
    "test_df.head()"
   ]
  },
  {
   "cell_type": "code",
   "execution_count": 416,
   "id": "educated-proportion",
   "metadata": {},
   "outputs": [
    {
     "data": {
      "text/html": [
       "<div>\n",
       "<style scoped>\n",
       "    .dataframe tbody tr th:only-of-type {\n",
       "        vertical-align: middle;\n",
       "    }\n",
       "\n",
       "    .dataframe tbody tr th {\n",
       "        vertical-align: top;\n",
       "    }\n",
       "\n",
       "    .dataframe thead th {\n",
       "        text-align: right;\n",
       "    }\n",
       "</style>\n",
       "<table border=\"1\" class=\"dataframe\">\n",
       "  <thead>\n",
       "    <tr style=\"text-align: right;\">\n",
       "      <th></th>\n",
       "      <th>Unnamed: 0</th>\n",
       "      <th>Unnamed: 0.1</th>\n",
       "      <th>loan_status</th>\n",
       "      <th>Principal</th>\n",
       "      <th>terms</th>\n",
       "      <th>effective_date</th>\n",
       "      <th>due_date</th>\n",
       "      <th>age</th>\n",
       "      <th>education</th>\n",
       "      <th>Gender</th>\n",
       "      <th>dayofweek</th>\n",
       "      <th>weekend</th>\n",
       "    </tr>\n",
       "  </thead>\n",
       "  <tbody>\n",
       "    <tr>\n",
       "      <th>0</th>\n",
       "      <td>1</td>\n",
       "      <td>1</td>\n",
       "      <td>PAIDOFF</td>\n",
       "      <td>1000</td>\n",
       "      <td>30</td>\n",
       "      <td>2016-09-08</td>\n",
       "      <td>2016-10-07</td>\n",
       "      <td>50</td>\n",
       "      <td>Bechalor</td>\n",
       "      <td>1</td>\n",
       "      <td>3</td>\n",
       "      <td>0</td>\n",
       "    </tr>\n",
       "    <tr>\n",
       "      <th>1</th>\n",
       "      <td>5</td>\n",
       "      <td>5</td>\n",
       "      <td>PAIDOFF</td>\n",
       "      <td>300</td>\n",
       "      <td>7</td>\n",
       "      <td>2016-09-09</td>\n",
       "      <td>2016-09-15</td>\n",
       "      <td>35</td>\n",
       "      <td>Master or Above</td>\n",
       "      <td>0</td>\n",
       "      <td>4</td>\n",
       "      <td>1</td>\n",
       "    </tr>\n",
       "    <tr>\n",
       "      <th>2</th>\n",
       "      <td>21</td>\n",
       "      <td>21</td>\n",
       "      <td>PAIDOFF</td>\n",
       "      <td>1000</td>\n",
       "      <td>30</td>\n",
       "      <td>2016-09-10</td>\n",
       "      <td>2016-10-09</td>\n",
       "      <td>43</td>\n",
       "      <td>High School or Below</td>\n",
       "      <td>1</td>\n",
       "      <td>5</td>\n",
       "      <td>1</td>\n",
       "    </tr>\n",
       "    <tr>\n",
       "      <th>3</th>\n",
       "      <td>24</td>\n",
       "      <td>24</td>\n",
       "      <td>PAIDOFF</td>\n",
       "      <td>1000</td>\n",
       "      <td>30</td>\n",
       "      <td>2016-09-10</td>\n",
       "      <td>2016-10-09</td>\n",
       "      <td>26</td>\n",
       "      <td>college</td>\n",
       "      <td>0</td>\n",
       "      <td>5</td>\n",
       "      <td>1</td>\n",
       "    </tr>\n",
       "    <tr>\n",
       "      <th>4</th>\n",
       "      <td>35</td>\n",
       "      <td>35</td>\n",
       "      <td>PAIDOFF</td>\n",
       "      <td>800</td>\n",
       "      <td>15</td>\n",
       "      <td>2016-09-11</td>\n",
       "      <td>2016-09-25</td>\n",
       "      <td>29</td>\n",
       "      <td>Bechalor</td>\n",
       "      <td>0</td>\n",
       "      <td>6</td>\n",
       "      <td>1</td>\n",
       "    </tr>\n",
       "  </tbody>\n",
       "</table>\n",
       "</div>"
      ],
      "text/plain": [
       "   Unnamed: 0  Unnamed: 0.1 loan_status  Principal  terms effective_date  \\\n",
       "0           1             1     PAIDOFF       1000     30     2016-09-08   \n",
       "1           5             5     PAIDOFF        300      7     2016-09-09   \n",
       "2          21            21     PAIDOFF       1000     30     2016-09-10   \n",
       "3          24            24     PAIDOFF       1000     30     2016-09-10   \n",
       "4          35            35     PAIDOFF        800     15     2016-09-11   \n",
       "\n",
       "    due_date  age             education  Gender  dayofweek  weekend  \n",
       "0 2016-10-07   50              Bechalor       1          3        0  \n",
       "1 2016-09-15   35       Master or Above       0          4        1  \n",
       "2 2016-10-09   43  High School or Below       1          5        1  \n",
       "3 2016-10-09   26               college       0          5        1  \n",
       "4 2016-09-25   29              Bechalor       0          6        1  "
      ]
     },
     "execution_count": 416,
     "metadata": {},
     "output_type": "execute_result"
    }
   ],
   "source": [
    "test_df['Gender'].replace(to_replace=['male','female'], value=[0,1],inplace=True)\n",
    "test_df.head()"
   ]
  },
  {
   "cell_type": "code",
   "execution_count": 417,
   "id": "destroyed-natural",
   "metadata": {},
   "outputs": [
    {
     "data": {
      "text/html": [
       "<div>\n",
       "<style scoped>\n",
       "    .dataframe tbody tr th:only-of-type {\n",
       "        vertical-align: middle;\n",
       "    }\n",
       "\n",
       "    .dataframe tbody tr th {\n",
       "        vertical-align: top;\n",
       "    }\n",
       "\n",
       "    .dataframe thead th {\n",
       "        text-align: right;\n",
       "    }\n",
       "</style>\n",
       "<table border=\"1\" class=\"dataframe\">\n",
       "  <thead>\n",
       "    <tr style=\"text-align: right;\">\n",
       "      <th></th>\n",
       "      <th>Unnamed: 0</th>\n",
       "      <th>Unnamed: 0.1</th>\n",
       "      <th>loan_status</th>\n",
       "      <th>Principal</th>\n",
       "      <th>terms</th>\n",
       "      <th>effective_date</th>\n",
       "      <th>due_date</th>\n",
       "      <th>age</th>\n",
       "      <th>education</th>\n",
       "      <th>Gender</th>\n",
       "      <th>dayofweek</th>\n",
       "      <th>weekend</th>\n",
       "    </tr>\n",
       "  </thead>\n",
       "  <tbody>\n",
       "    <tr>\n",
       "      <th>0</th>\n",
       "      <td>1</td>\n",
       "      <td>1</td>\n",
       "      <td>1</td>\n",
       "      <td>1000</td>\n",
       "      <td>30</td>\n",
       "      <td>2016-09-08</td>\n",
       "      <td>2016-10-07</td>\n",
       "      <td>50</td>\n",
       "      <td>Bechalor</td>\n",
       "      <td>1</td>\n",
       "      <td>3</td>\n",
       "      <td>0</td>\n",
       "    </tr>\n",
       "    <tr>\n",
       "      <th>1</th>\n",
       "      <td>5</td>\n",
       "      <td>5</td>\n",
       "      <td>1</td>\n",
       "      <td>300</td>\n",
       "      <td>7</td>\n",
       "      <td>2016-09-09</td>\n",
       "      <td>2016-09-15</td>\n",
       "      <td>35</td>\n",
       "      <td>Master or Above</td>\n",
       "      <td>0</td>\n",
       "      <td>4</td>\n",
       "      <td>1</td>\n",
       "    </tr>\n",
       "    <tr>\n",
       "      <th>2</th>\n",
       "      <td>21</td>\n",
       "      <td>21</td>\n",
       "      <td>1</td>\n",
       "      <td>1000</td>\n",
       "      <td>30</td>\n",
       "      <td>2016-09-10</td>\n",
       "      <td>2016-10-09</td>\n",
       "      <td>43</td>\n",
       "      <td>High School or Below</td>\n",
       "      <td>1</td>\n",
       "      <td>5</td>\n",
       "      <td>1</td>\n",
       "    </tr>\n",
       "    <tr>\n",
       "      <th>3</th>\n",
       "      <td>24</td>\n",
       "      <td>24</td>\n",
       "      <td>1</td>\n",
       "      <td>1000</td>\n",
       "      <td>30</td>\n",
       "      <td>2016-09-10</td>\n",
       "      <td>2016-10-09</td>\n",
       "      <td>26</td>\n",
       "      <td>college</td>\n",
       "      <td>0</td>\n",
       "      <td>5</td>\n",
       "      <td>1</td>\n",
       "    </tr>\n",
       "    <tr>\n",
       "      <th>4</th>\n",
       "      <td>35</td>\n",
       "      <td>35</td>\n",
       "      <td>1</td>\n",
       "      <td>800</td>\n",
       "      <td>15</td>\n",
       "      <td>2016-09-11</td>\n",
       "      <td>2016-09-25</td>\n",
       "      <td>29</td>\n",
       "      <td>Bechalor</td>\n",
       "      <td>0</td>\n",
       "      <td>6</td>\n",
       "      <td>1</td>\n",
       "    </tr>\n",
       "  </tbody>\n",
       "</table>\n",
       "</div>"
      ],
      "text/plain": [
       "   Unnamed: 0  Unnamed: 0.1  loan_status  Principal  terms effective_date  \\\n",
       "0           1             1            1       1000     30     2016-09-08   \n",
       "1           5             5            1        300      7     2016-09-09   \n",
       "2          21            21            1       1000     30     2016-09-10   \n",
       "3          24            24            1       1000     30     2016-09-10   \n",
       "4          35            35            1        800     15     2016-09-11   \n",
       "\n",
       "    due_date  age             education  Gender  dayofweek  weekend  \n",
       "0 2016-10-07   50              Bechalor       1          3        0  \n",
       "1 2016-09-15   35       Master or Above       0          4        1  \n",
       "2 2016-10-09   43  High School or Below       1          5        1  \n",
       "3 2016-10-09   26               college       0          5        1  \n",
       "4 2016-09-25   29              Bechalor       0          6        1  "
      ]
     },
     "execution_count": 417,
     "metadata": {},
     "output_type": "execute_result"
    }
   ],
   "source": [
    "test_df['loan_status'].replace(to_replace=['COLLECTION','PAIDOFF'], value=[0,1],inplace=True)\n",
    "test_df.head()"
   ]
  },
  {
   "cell_type": "code",
   "execution_count": 418,
   "id": "developing-generic",
   "metadata": {},
   "outputs": [
    {
     "data": {
      "text/html": [
       "<div>\n",
       "<style scoped>\n",
       "    .dataframe tbody tr th:only-of-type {\n",
       "        vertical-align: middle;\n",
       "    }\n",
       "\n",
       "    .dataframe tbody tr th {\n",
       "        vertical-align: top;\n",
       "    }\n",
       "\n",
       "    .dataframe thead th {\n",
       "        text-align: right;\n",
       "    }\n",
       "</style>\n",
       "<table border=\"1\" class=\"dataframe\">\n",
       "  <thead>\n",
       "    <tr style=\"text-align: right;\">\n",
       "      <th></th>\n",
       "      <th>Principal</th>\n",
       "      <th>terms</th>\n",
       "      <th>age</th>\n",
       "      <th>Gender</th>\n",
       "      <th>weekend</th>\n",
       "      <th>Bechalor</th>\n",
       "      <th>High School or Below</th>\n",
       "      <th>college</th>\n",
       "    </tr>\n",
       "  </thead>\n",
       "  <tbody>\n",
       "    <tr>\n",
       "      <th>0</th>\n",
       "      <td>1000</td>\n",
       "      <td>30</td>\n",
       "      <td>50</td>\n",
       "      <td>1</td>\n",
       "      <td>0</td>\n",
       "      <td>1</td>\n",
       "      <td>0</td>\n",
       "      <td>0</td>\n",
       "    </tr>\n",
       "    <tr>\n",
       "      <th>1</th>\n",
       "      <td>300</td>\n",
       "      <td>7</td>\n",
       "      <td>35</td>\n",
       "      <td>0</td>\n",
       "      <td>1</td>\n",
       "      <td>0</td>\n",
       "      <td>0</td>\n",
       "      <td>0</td>\n",
       "    </tr>\n",
       "    <tr>\n",
       "      <th>2</th>\n",
       "      <td>1000</td>\n",
       "      <td>30</td>\n",
       "      <td>43</td>\n",
       "      <td>1</td>\n",
       "      <td>1</td>\n",
       "      <td>0</td>\n",
       "      <td>1</td>\n",
       "      <td>0</td>\n",
       "    </tr>\n",
       "    <tr>\n",
       "      <th>3</th>\n",
       "      <td>1000</td>\n",
       "      <td>30</td>\n",
       "      <td>26</td>\n",
       "      <td>0</td>\n",
       "      <td>1</td>\n",
       "      <td>0</td>\n",
       "      <td>0</td>\n",
       "      <td>1</td>\n",
       "    </tr>\n",
       "    <tr>\n",
       "      <th>4</th>\n",
       "      <td>800</td>\n",
       "      <td>15</td>\n",
       "      <td>29</td>\n",
       "      <td>0</td>\n",
       "      <td>1</td>\n",
       "      <td>1</td>\n",
       "      <td>0</td>\n",
       "      <td>0</td>\n",
       "    </tr>\n",
       "  </tbody>\n",
       "</table>\n",
       "</div>"
      ],
      "text/plain": [
       "   Principal  terms  age  Gender  weekend  Bechalor  High School or Below  \\\n",
       "0       1000     30   50       1        0         1                     0   \n",
       "1        300      7   35       0        1         0                     0   \n",
       "2       1000     30   43       1        1         0                     1   \n",
       "3       1000     30   26       0        1         0                     0   \n",
       "4        800     15   29       0        1         1                     0   \n",
       "\n",
       "   college  \n",
       "0        0  \n",
       "1        0  \n",
       "2        0  \n",
       "3        1  \n",
       "4        0  "
      ]
     },
     "execution_count": 418,
     "metadata": {},
     "output_type": "execute_result"
    }
   ],
   "source": [
    "Feature1 = test_df[['Principal','terms','age','Gender','weekend']]\n",
    "Feature1 = pd.concat([Feature1,pd.get_dummies(test_df['education'])], axis=1)\n",
    "Feature1.drop(['Master or Above'], axis = 1,inplace=True)\n",
    "Feature1.head()\n"
   ]
  },
  {
   "cell_type": "code",
   "execution_count": 419,
   "id": "amended-insured",
   "metadata": {},
   "outputs": [
    {
     "data": {
      "text/plain": [
       "(54, 8)"
      ]
     },
     "execution_count": 419,
     "metadata": {},
     "output_type": "execute_result"
    }
   ],
   "source": [
    "X1 = Feature1\n",
    "X1[0:5]\n",
    "X1.shape"
   ]
  },
  {
   "cell_type": "code",
   "execution_count": 420,
   "id": "bacterial-modeling",
   "metadata": {},
   "outputs": [
    {
     "data": {
      "text/plain": [
       "(54,)"
      ]
     },
     "execution_count": 420,
     "metadata": {},
     "output_type": "execute_result"
    }
   ],
   "source": [
    "y1 = test_df['loan_status'].values\n",
    "y1[0:5]\n",
    "y1.shape"
   ]
  },
  {
   "cell_type": "code",
   "execution_count": 421,
   "id": "beginning-bullet",
   "metadata": {},
   "outputs": [
    {
     "data": {
      "text/plain": [
       "array([[ 0.49362588,  0.92844966,  3.05981865,  1.97714211, -1.30384048,\n",
       "         2.39791576, -0.79772404, -0.86135677],\n",
       "       [-3.56269116, -1.70427745,  0.53336288, -0.50578054,  0.76696499,\n",
       "        -0.41702883, -0.79772404, -0.86135677],\n",
       "       [ 0.49362588,  0.92844966,  1.88080596,  1.97714211,  0.76696499,\n",
       "        -0.41702883,  1.25356634, -0.86135677],\n",
       "       [ 0.49362588,  0.92844966, -0.98251057, -0.50578054,  0.76696499,\n",
       "        -0.41702883, -0.79772404,  1.16095912],\n",
       "       [-0.66532184, -0.78854628, -0.47721942, -0.50578054,  0.76696499,\n",
       "         2.39791576, -0.79772404, -0.86135677]])"
      ]
     },
     "execution_count": 421,
     "metadata": {},
     "output_type": "execute_result"
    }
   ],
   "source": [
    "X1= preprocessing.StandardScaler().fit(X1).transform(X1)\n",
    "X1[0:5]"
   ]
  },
  {
   "cell_type": "markdown",
   "id": "raised-vaccine",
   "metadata": {},
   "source": [
    "## Testing for KNN"
   ]
  },
  {
   "cell_type": "code",
   "execution_count": 422,
   "id": "brave-depth",
   "metadata": {},
   "outputs": [
    {
     "data": {
      "text/plain": [
       "array([1, 1, 0, 0, 0], dtype=int64)"
      ]
     },
     "execution_count": 422,
     "metadata": {},
     "output_type": "execute_result"
    }
   ],
   "source": [
    "y_pred1 = neigh.predict(X1)\n",
    "y_pred1[:5]"
   ]
  },
  {
   "cell_type": "code",
   "execution_count": 423,
   "id": "enormous-cancellation",
   "metadata": {},
   "outputs": [],
   "source": [
    "a = jaccard_score(y1, y_pred1)"
   ]
  },
  {
   "cell_type": "code",
   "execution_count": 424,
   "id": "general-layout",
   "metadata": {},
   "outputs": [],
   "source": [
    "b = f1_score(y1, y_pred1)"
   ]
  },
  {
   "cell_type": "markdown",
   "id": "choice-catch",
   "metadata": {},
   "source": [
    "## Testing for Decision Tree"
   ]
  },
  {
   "cell_type": "code",
   "execution_count": 425,
   "id": "surprising-respondent",
   "metadata": {},
   "outputs": [],
   "source": [
    "predtree1 = tree.predict(X1)"
   ]
  },
  {
   "cell_type": "code",
   "execution_count": 426,
   "id": "shared-offering",
   "metadata": {},
   "outputs": [],
   "source": [
    "c = jaccard_score(y1, predtree1,pos_label=1)"
   ]
  },
  {
   "cell_type": "code",
   "execution_count": 427,
   "id": "labeled-cameroon",
   "metadata": {},
   "outputs": [],
   "source": [
    "d = f1_score(y1,predtree1)"
   ]
  },
  {
   "cell_type": "markdown",
   "id": "macro-hindu",
   "metadata": {},
   "source": [
    "## Testing for SVM"
   ]
  },
  {
   "cell_type": "code",
   "execution_count": 428,
   "id": "plain-australian",
   "metadata": {},
   "outputs": [],
   "source": [
    "yhat1 = clf1.predict(X1)"
   ]
  },
  {
   "cell_type": "code",
   "execution_count": 429,
   "id": "hourly-pattern",
   "metadata": {},
   "outputs": [],
   "source": [
    "e = jaccard_score(y1, yhat1)"
   ]
  },
  {
   "cell_type": "code",
   "execution_count": 430,
   "id": "martial-worker",
   "metadata": {},
   "outputs": [],
   "source": [
    "f = f1_score(y1,yhat1)"
   ]
  },
  {
   "cell_type": "markdown",
   "id": "accompanied-perry",
   "metadata": {},
   "source": [
    "## Testing for Logistic Regression"
   ]
  },
  {
   "cell_type": "code",
   "execution_count": 431,
   "id": "right-drinking",
   "metadata": {},
   "outputs": [],
   "source": [
    "yhatLR1 = LR.predict(X1)"
   ]
  },
  {
   "cell_type": "code",
   "execution_count": 432,
   "id": "administrative-circle",
   "metadata": {},
   "outputs": [],
   "source": [
    "g = jaccard_score(y1, yhatLR1)"
   ]
  },
  {
   "cell_type": "code",
   "execution_count": 433,
   "id": "undefined-reserve",
   "metadata": {},
   "outputs": [],
   "source": [
    "h = f1_score(y1,yhatLR1)"
   ]
  },
  {
   "cell_type": "code",
   "execution_count": 434,
   "id": "cloudy-hudson",
   "metadata": {},
   "outputs": [],
   "source": [
    "yhatLR_prob1 = LR.predict_proba(X1)"
   ]
  },
  {
   "cell_type": "code",
   "execution_count": 435,
   "id": "palestinian-following",
   "metadata": {},
   "outputs": [],
   "source": [
    "j = log_loss(y1,yhatLR_prob1)"
   ]
  },
  {
   "cell_type": "markdown",
   "id": "stupid-jewel",
   "metadata": {},
   "source": [
    "# Report"
   ]
  },
  {
   "cell_type": "code",
   "execution_count": 436,
   "id": "ultimate-switch",
   "metadata": {},
   "outputs": [],
   "source": [
    "data = [[\"KNN\",a,b,\"NA\"],[\"Decision Tree\",c,d,\"NA\"],[\"SVM\",e,f,\"NA\"],[\"Logistic Regression\",g,h,j]]"
   ]
  },
  {
   "cell_type": "code",
   "execution_count": 437,
   "id": "expanded-criminal",
   "metadata": {},
   "outputs": [
    {
     "data": {
      "text/html": [
       "<div>\n",
       "<style scoped>\n",
       "    .dataframe tbody tr th:only-of-type {\n",
       "        vertical-align: middle;\n",
       "    }\n",
       "\n",
       "    .dataframe tbody tr th {\n",
       "        vertical-align: top;\n",
       "    }\n",
       "\n",
       "    .dataframe thead th {\n",
       "        text-align: right;\n",
       "    }\n",
       "</style>\n",
       "<table border=\"1\" class=\"dataframe\">\n",
       "  <thead>\n",
       "    <tr style=\"text-align: right;\">\n",
       "      <th></th>\n",
       "      <th>Algorithm</th>\n",
       "      <th>Jaccard</th>\n",
       "      <th>F1-Score</th>\n",
       "      <th>Log-Loss</th>\n",
       "    </tr>\n",
       "  </thead>\n",
       "  <tbody>\n",
       "    <tr>\n",
       "      <th>0</th>\n",
       "      <td>KNN</td>\n",
       "      <td>0.653846</td>\n",
       "      <td>0.790698</td>\n",
       "      <td>NA</td>\n",
       "    </tr>\n",
       "    <tr>\n",
       "      <th>1</th>\n",
       "      <td>Decision Tree</td>\n",
       "      <td>0.680851</td>\n",
       "      <td>0.810127</td>\n",
       "      <td>NA</td>\n",
       "    </tr>\n",
       "    <tr>\n",
       "      <th>2</th>\n",
       "      <td>SVM</td>\n",
       "      <td>0.750000</td>\n",
       "      <td>0.857143</td>\n",
       "      <td>NA</td>\n",
       "    </tr>\n",
       "    <tr>\n",
       "      <th>3</th>\n",
       "      <td>Logistic Regression</td>\n",
       "      <td>0.740741</td>\n",
       "      <td>0.851064</td>\n",
       "      <td>0.516366</td>\n",
       "    </tr>\n",
       "  </tbody>\n",
       "</table>\n",
       "</div>"
      ],
      "text/plain": [
       "             Algorithm   Jaccard  F1-Score  Log-Loss\n",
       "0                  KNN  0.653846  0.790698        NA\n",
       "1        Decision Tree  0.680851  0.810127        NA\n",
       "2                  SVM  0.750000  0.857143        NA\n",
       "3  Logistic Regression  0.740741  0.851064  0.516366"
      ]
     },
     "execution_count": 437,
     "metadata": {},
     "output_type": "execute_result"
    }
   ],
   "source": [
    "report = pd.DataFrame(data, columns = ['Algorithm','Jaccard','F1-Score','Log-Loss'])\n",
    "report"
   ]
  },
  {
   "cell_type": "markdown",
   "id": "worth-shade",
   "metadata": {},
   "source": [
    "# Conclusion"
   ]
  },
  {
   "cell_type": "code",
   "execution_count": 438,
   "id": "herbal-microphone",
   "metadata": {},
   "outputs": [
    {
     "name": "stdout",
     "output_type": "stream",
     "text": [
      "SVM Classifier will be the best classifier for the given data-set.\n"
     ]
    }
   ],
   "source": [
    "print(\"SVM Classifier will be the best classifier for the given data-set.\")"
   ]
  },
  {
   "cell_type": "code",
   "execution_count": null,
   "id": "experienced-software",
   "metadata": {},
   "outputs": [],
   "source": []
  }
 ],
 "metadata": {
  "kernelspec": {
   "display_name": "Python 3",
   "language": "python",
   "name": "python3"
  },
  "language_info": {
   "codemirror_mode": {
    "name": "ipython",
    "version": 3
   },
   "file_extension": ".py",
   "mimetype": "text/x-python",
   "name": "python",
   "nbconvert_exporter": "python",
   "pygments_lexer": "ipython3",
   "version": "3.7.6"
  }
 },
 "nbformat": 4,
 "nbformat_minor": 5
}
